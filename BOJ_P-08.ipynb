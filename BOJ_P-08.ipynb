{
 "cells": [
  {
   "cell_type": "markdown",
   "id": "a94064a8",
   "metadata": {},
   "source": [
    "#### 1. 소수 찾기 ( N-1978 )"
   ]
  },
  {
   "cell_type": "markdown",
   "id": "b0181826",
   "metadata": {},
   "source": [
    "주어진 수 N개 중에서 소수가 몇 개인지 찾아서 출력하는 프로그램을 작성하시오."
   ]
  },
  {
   "cell_type": "markdown",
   "id": "79c4aa48",
   "metadata": {},
   "source": [
    "- 입력\n",
    "  - 첫 줄에 수의 개수 N이 주어진다. N은 100이하이다. 다음으로 N개의 수가 주어지는데 수는 1,000 이하의 자연수이다."
   ]
  },
  {
   "cell_type": "code",
   "execution_count": 1,
   "id": "0b8667be",
   "metadata": {},
   "outputs": [
    {
     "name": "stdout",
     "output_type": "stream",
     "text": [
      "4\n",
      "1 3 5 7\n",
      "3\n"
     ]
    }
   ],
   "source": [
    "N = int(input())\n",
    "num_list, prime_num = list(map(int, input().split())), 0\n",
    "\n",
    "for n in num_list :\n",
    "    if n == 1 : continue\n",
    "    for s in range(2, n) :\n",
    "        if n % s == 0 : break\n",
    "    else : prime_num += 1\n",
    "print(prime_num)"
   ]
  },
  {
   "cell_type": "markdown",
   "id": "161713cc",
   "metadata": {},
   "source": [
    "#### 2. 소수 ( N-2581 )"
   ]
  },
  {
   "cell_type": "markdown",
   "id": "32329991",
   "metadata": {},
   "source": [
    "자연수 M과 N이 주어질 때 M이상 N이하의 자연수 중 소수인 것을 모두 골라 이들 소수의 합과 최솟값을 찾는 프로그램을 작성하시오.  \n",
    "  \n",
    "예를 들어 M=60, N=100인 경우 60이상 100이하의 자연수 중 소수는 61, 67, 71, 73, 79, 83, 89, 97 총 8개가 있으므로, 이들 소수의 합은 620이고, 최솟값은 61이 된다."
   ]
  },
  {
   "cell_type": "markdown",
   "id": "59e2e34f",
   "metadata": {},
   "source": [
    "- 입력\n",
    "  - 입력의 첫째 줄에 M이, 둘째 줄에 N이 주어진다.\n",
    "  - M과 N은 10,000이하의 자연수이며, M은 N보다 작거나 같다."
   ]
  },
  {
   "cell_type": "code",
   "execution_count": null,
   "id": "6f4229e9",
   "metadata": {},
   "outputs": [],
   "source": [
    "import sys\n",
    "\n",
    "input = sys.stdin.readline\n",
    "M, N = int(input()), int(input())\n",
    "prime_num = []\n",
    "\n",
    "for n in range(M, N + 1) :\n",
    "    if n == 1 : continue\n",
    "    # 1과 자기자신을 제외한 약수가 존재하는지 확인하려면\n",
    "    # 자기자신의 제곱근까지만 확인하면 된다.\n",
    "    for s in range(2, int(n ** 0.5) + 1) :\n",
    "        if n % s == 0 : break\n",
    "    else : prime_num.append(n)\n",
    "\n",
    "if len(prime_num) > 0 :\n",
    "    print(sum(prime_num))\n",
    "    print(min(prime_num))\n",
    "else : print(\"-1\")"
   ]
  },
  {
   "cell_type": "code",
   "execution_count": 2,
   "id": "be0dc21d",
   "metadata": {},
   "outputs": [
    {
     "name": "stdout",
     "output_type": "stream",
     "text": [
      "60\n",
      "100\n",
      "620\n",
      "61\n"
     ]
    }
   ],
   "source": [
    "M, N = int(input()), int(input())\n",
    "prime_num = []\n",
    "\n",
    "for n in range(M, N + 1) :\n",
    "    if n == 1 : continue\n",
    "    for s in range(2, int(n ** 0.5) + 1) :\n",
    "        if n % s == 0 : break\n",
    "    else : prime_num.append(n)\n",
    "\n",
    "if len(prime_num) > 0 :\n",
    "    print(sum(prime_num))\n",
    "    print(min(prime_num))\n",
    "else : print(\"-1\")"
   ]
  },
  {
   "cell_type": "markdown",
   "id": "6ac0af10",
   "metadata": {},
   "source": [
    "#### 3. 소인수분해 ( N-11653 )"
   ]
  },
  {
   "cell_type": "markdown",
   "id": "38486fc4",
   "metadata": {},
   "source": [
    "정수 N이 주어졌을 때, 소인수분해하는 프로그램을 작성하시오."
   ]
  },
  {
   "cell_type": "markdown",
   "id": "db9a2ce4",
   "metadata": {},
   "source": [
    "- 입력\n",
    "  - 첫째 줄에 정수 N (1 ≤ N ≤ 10,000,000)이 주어진다."
   ]
  },
  {
   "cell_type": "code",
   "execution_count": null,
   "id": "89e9f20e",
   "metadata": {},
   "outputs": [],
   "source": [
    "# iterative : slow\n",
    "N = int(input())\n",
    "prime_factor = []\n",
    "\n",
    "while N > 1 :\n",
    "    for n in range(2, N + 1) :\n",
    "        if N % n == 0 :\n",
    "            prime_factor.append(n)\n",
    "            N //= n\n",
    "            break\n",
    "for element in prime_factor :\n",
    "    print(element)"
   ]
  },
  {
   "cell_type": "code",
   "execution_count": 3,
   "id": "54c2babb",
   "metadata": {},
   "outputs": [
    {
     "name": "stdout",
     "output_type": "stream",
     "text": [
      "72\n",
      "2\n",
      "2\n",
      "2\n",
      "3\n",
      "3\n"
     ]
    }
   ],
   "source": [
    "# recursive : faster than iterative prime_factor\n",
    "def prime_factor(n) :\n",
    "    if n > 1 :\n",
    "        for p_num in range(2, n + 1) :\n",
    "            if n % p_num == 0 :\n",
    "                print(p_num)\n",
    "                return prime_factor(n // p_num)\n",
    "\n",
    "N = int(input())\n",
    "prime_factor(N)"
   ]
  },
  {
   "cell_type": "markdown",
   "id": "8b8f7f97",
   "metadata": {},
   "source": [
    "#### 4. 소수 구하기 ( N-1929 )"
   ]
  },
  {
   "cell_type": "markdown",
   "id": "43e4ed95",
   "metadata": {},
   "source": [
    "M이상 N이하의 소수를 모두 출력하는 프로그램을 작성하시오."
   ]
  },
  {
   "cell_type": "markdown",
   "id": "acd67bcc",
   "metadata": {},
   "source": [
    "- 입력\n",
    "  - 첫째 줄에 자연수 M과 N이 빈 칸을 사이에 두고 주어진다. (1 ≤ M ≤ N ≤ 1,000,000) M이상 N이하의 소수가 하나 이상 있는 입력만 주어진다."
   ]
  },
  {
   "cell_type": "code",
   "execution_count": null,
   "id": "e73e4ea0",
   "metadata": {},
   "outputs": [],
   "source": [
    "M, N = map(int, input().split())\n",
    "\n",
    "for num in range(M, N + 1) :\n",
    "    if num == 1 : continue\n",
    "    for factor in range(2, int(num ** 0.5) + 1) :\n",
    "        if num % factor == 0 : break\n",
    "    else : print(num)"
   ]
  },
  {
   "cell_type": "code",
   "execution_count": 1,
   "id": "ebf2f74f",
   "metadata": {},
   "outputs": [
    {
     "name": "stdout",
     "output_type": "stream",
     "text": [
      "1 13\n",
      "2\n",
      "3\n",
      "5\n",
      "7\n",
      "11\n",
      "13\n"
     ]
    }
   ],
   "source": [
    "M, N = map(int, input().split())\n",
    "\n",
    "prime_num = [False, False] + [True] * (N + 1)\n",
    "for i in range(2, int(N ** 0.5) + 1) :\n",
    "    if prime_num[i] :\n",
    "        for n in range(2 * i, N + 1, i) :\n",
    "            prime_num[n] = False\n",
    "\n",
    "for i in range(M, N + 1) :\n",
    "    if prime_num[i] : print(i)"
   ]
  },
  {
   "cell_type": "markdown",
   "id": "ae3626a5",
   "metadata": {},
   "source": [
    "#### 5. 베르트랑 공준 ( N-4948 )"
   ]
  },
  {
   "cell_type": "markdown",
   "id": "2b0ae348",
   "metadata": {},
   "source": [
    "베르트랑 공준은 임의의 자연수 n에 대햐여, n보다 크고, 2n보다 작거나 같은 소수는 적어도 하나 존재한다는 내용을 담고 있다.  \n",
    "  \n",
    "이 명제는 조제프 베르트랑이 1845년에 추측했고, 파프누티 체비쇼프가 1850년에 증명했다.  \n",
    "  \n",
    "예를 들어, 10보다 크고, 20보다 작거나 같은 소수는 4개가 있다. (11, 13, 17, 19) 또, 14보다 크고, 28보다 작거나 같은 소수는 3개가 있다. (17, 19, 23)  \n",
    "  \n",
    "자연수 n이 주어졌을 때, n보다 크고, 2n보다 작거나 같은 소수의 개수를 구하는 프로그램을 작성하시오."
   ]
  },
  {
   "cell_type": "markdown",
   "id": "b68e09cd",
   "metadata": {},
   "source": [
    "- 입력\n",
    "  - 입력은 여러 개의 테스트 케이스로 이루어져 있다. 각 케이스는 n을 포함하는 한 줄로 이루어져 있다.\n",
    "  - 입력의 마지막에는 0이 주어진다."
   ]
  },
  {
   "cell_type": "code",
   "execution_count": 2,
   "id": "615a695e",
   "metadata": {},
   "outputs": [
    {
     "name": "stdout",
     "output_type": "stream",
     "text": [
      "1\n",
      "1\n",
      "10\n",
      "4\n",
      "13\n",
      "3\n",
      "100\n",
      "21\n",
      "1000\n",
      "135\n",
      "10000\n",
      "1033\n",
      "100000\n",
      "8392\n",
      "0\n"
     ]
    }
   ],
   "source": [
    "while True :\n",
    "    n = int(input())\n",
    "    if n == 0 : break\n",
    "    count = 0\n",
    "    prime_num = [False, False] + [True] * (2 * n + 1)\n",
    "    for i in range(2, int(2 * n ** 0.5) + 1) :\n",
    "        if prime_num[i] :\n",
    "            for k in range(2 * i, 2 * n + 1, i) :\n",
    "                prime_num[k] = False\n",
    "\n",
    "    for i in range(n + 1, 2 * n + 1) :\n",
    "        if prime_num[i] : count += 1\n",
    "    print(count)"
   ]
  },
  {
   "cell_type": "markdown",
   "id": "185d17c1",
   "metadata": {},
   "source": [
    "#### 6. 골드바흐의 추측 ( N-9020 )"
   ]
  },
  {
   "cell_type": "markdown",
   "id": "8f5e73f5",
   "metadata": {},
   "source": [
    "1보다 큰 자연수 중에서  1과 자기 자신을 제외한 약수가 없는 자연수를 소수라고 한다. 예를 들어, 5는 1과 5를 제외한 약수가 없기 때문에 소수이다. 하지만, 6은 6 = 2 × 3 이기 때문에 소수가 아니다.  \n",
    "  \n",
    "골드바흐의 추측은 유명한 정수론의 미해결 문제로, 2보다 큰 모든 짝수는 두 소수의 합으로 나타낼 수 있다는 것이다. 이러한 수를 골드바흐 수라고 한다. 또, 짝수를 두 소수의 합으로 나타내는 표현을 그 수의 골드바흐 파티션이라고 한다. 예를 들면, 4 = 2 + 2, 6 = 3 + 3, 8 = 3 + 5, 10 = 5 + 5, 12 = 5 + 7, 14 = 3 + 11, 14 = 7 + 7이다. 10000보다 작거나 같은 모든 짝수 n에 대한 골드바흐 파티션은 존재한다.  \n",
    "  \n",
    "2보다 큰 짝수 n이 주어졌을 때, n의 골드바흐 파티션을 출력하는 프로그램을 작성하시오. 만약 가능한 n의 골드바흐 파티션이 여러 가지인 경우에는 두 소수의 차이가 가장 작은 것을 출력한다."
   ]
  },
  {
   "cell_type": "markdown",
   "id": "309cdb25",
   "metadata": {},
   "source": [
    "- 입력\n",
    "  - 첫째 줄에 테스트 케이스의 개수 T가 주어진다. 각 테스트 케이스는 한 줄로 이루어져 있고 짝수 n이 주어진다."
   ]
  },
  {
   "cell_type": "code",
   "execution_count": null,
   "id": "6a6d93ca",
   "metadata": {},
   "outputs": [],
   "source": [
    "prime_num = [False] * 2 + [True] * 5101\n",
    "for i in range(2, int(5100 ** 0.5) + 1) :\n",
    "    if prime_num[i] :\n",
    "        for n in range(2 * i, 5101, i) :\n",
    "            prime_num[n] = False\n",
    "prime_list = [n for n in range(2, 5101) if prime_num[n]]\n",
    "\n",
    "T = int(input())\n",
    "for _ in range(T) :\n",
    "    n = int(input())\n",
    "    for e in range(len(prime_list) - 1, -1, -1) :\n",
    "        if 2 * prime_list[e] > n : continue\n",
    "        if prime_list.count(n - prime_list[e]) != 0 :\n",
    "            print(prime_list[e], n - prime_list[e])\n",
    "            break"
   ]
  },
  {
   "cell_type": "code",
   "execution_count": 3,
   "id": "2aee6d25",
   "metadata": {},
   "outputs": [
    {
     "name": "stdout",
     "output_type": "stream",
     "text": [
      "3\n",
      "8\n",
      "3 5\n",
      "10\n",
      "5 5\n",
      "16\n",
      "5 11\n"
     ]
    }
   ],
   "source": [
    "prime_num = [0] * 2 + [1] * 5101\n",
    "for i in range(2, int(5100 ** 0.5) + 1) :\n",
    "    if prime_num[i] :\n",
    "        for n in range(2 * i, 5101, i) :\n",
    "            prime_num[n] = 0\n",
    "            \n",
    "T = int(input())\n",
    "for _ in range(T) :\n",
    "    n = int(input())\n",
    "    for e in range(n // 2, 1, -1) :\n",
    "        if prime_num[e] + prime_num[n - e] == 2 :\n",
    "            print(e, n - e)\n",
    "            break"
   ]
  },
  {
   "cell_type": "markdown",
   "id": "32b237b8",
   "metadata": {},
   "source": [
    "#### 7. 직사각형에서 탈출 ( N-1085 )"
   ]
  },
  {
   "cell_type": "markdown",
   "id": "67a547da",
   "metadata": {},
   "source": [
    "한수는 지금 (x, y)에 있다. 직사각형은 각 변이 좌표축에 평행하고, 왼쪽 아래 꼭짓점은 (0, 0), 오른쪽 위 꼭짓점은 (w, h)에 있다. 직사각형의 경계선까지 가는 거리의 최솟값을 구하는 프로그램을 작성하시오."
   ]
  },
  {
   "cell_type": "markdown",
   "id": "1f56d119",
   "metadata": {},
   "source": [
    "- 입력\n",
    "   - 첫째 줄에 x, y, w, h가 주어진다."
   ]
  },
  {
   "cell_type": "code",
   "execution_count": 4,
   "id": "f8905b5e",
   "metadata": {},
   "outputs": [
    {
     "name": "stdout",
     "output_type": "stream",
     "text": [
      "6 2 10 3\n",
      "1\n"
     ]
    }
   ],
   "source": [
    "x, y, w, h = map(int, input().split())\n",
    "vertical = x if x < w - x else w - x\n",
    "horizon = y if y < h - y else h - y\n",
    "print(vertical if vertical < horizon else horizon)"
   ]
  },
  {
   "cell_type": "markdown",
   "id": "054f22fb",
   "metadata": {},
   "source": [
    "#### 8. 네 번째 점 ( N-3009 )"
   ]
  },
  {
   "cell_type": "markdown",
   "id": "aeeb8a26",
   "metadata": {},
   "source": [
    "세 점이 주어졌을 때, 축에 평행한 직사각형을 만들기 위해서 필요한 네 번째 점을 찾는 프로그램을 작성하시오."
   ]
  },
  {
   "cell_type": "markdown",
   "id": "3434877b",
   "metadata": {},
   "source": [
    "- 입력\n",
    "  - 세 점의 좌표가 한 줄에 하나씩 주어진다. 좌표는 1보다 크거나 같고, 1000보다 작거나 같은 정수이다."
   ]
  },
  {
   "cell_type": "code",
   "execution_count": 5,
   "id": "ec8a02d2",
   "metadata": {},
   "outputs": [
    {
     "name": "stdout",
     "output_type": "stream",
     "text": [
      "30 20\n",
      "10 10\n",
      "10 20\n",
      "30 10\n"
     ]
    }
   ],
   "source": [
    "coord = [list(map(int, input().split())) for _ in range(3)]\n",
    "coord.sort(key = lambda c : c[0])\n",
    "if coord[0][0] == coord[1][0] :\n",
    "    print(coord[2][0], coord[0][1] if coord[2][1] == coord[1][1] else coord[1][1])\n",
    "else :\n",
    "    print(coord[0][0], coord[2][1] if coord[0][1] == coord[1][1] else coord[1][1])"
   ]
  },
  {
   "cell_type": "markdown",
   "id": "c8a3308d",
   "metadata": {},
   "source": [
    "#### 9. 직각삼각형 ( N-4153 )"
   ]
  },
  {
   "cell_type": "markdown",
   "id": "95af5f8c",
   "metadata": {},
   "source": [
    "과거 이집트인들은 각 변들의 길이가 3, 4, 5인 삼각형이 직각 삼각형인 것을 알아냈다. 주어진 세변의 길이로 삼각형이 직각인지 아닌지 구분하시오."
   ]
  },
  {
   "cell_type": "markdown",
   "id": "23ea1c88",
   "metadata": {},
   "source": [
    "- 입력\n",
    "  - 입력은 여러개의 테스트케이스로 주어지며 마지막줄에는 0 0 0이 입력된다. 각 테스트케이스는 모두 30,000보다 작은 양의 정수로 주어지며, 각 입력은 변의 길이를 의미한다."
   ]
  },
  {
   "cell_type": "code",
   "execution_count": null,
   "id": "fd6803a1",
   "metadata": {},
   "outputs": [],
   "source": [
    "while True :\n",
    "    a, b, c = map(int, input().split())\n",
    "    if a == b == c == 0 : break\n",
    "    if c > a and c > b :\n",
    "        print(\"right\" if c ** 2 == a ** 2 + b ** 2 else \"wrong\")\n",
    "    elif b > c and b > a :\n",
    "        print(\"right\" if b ** 2 == c ** 2 + a ** 2 else \"wrong\")\n",
    "    else :\n",
    "        print(\"right\" if a ** 2 == b ** 2 + c ** 2 else \"wrong\")"
   ]
  },
  {
   "cell_type": "code",
   "execution_count": 6,
   "id": "f261b7fc",
   "metadata": {},
   "outputs": [
    {
     "name": "stdout",
     "output_type": "stream",
     "text": [
      "6 8 10\n",
      "right\n",
      "25 52 60\n",
      "wrong\n",
      "5 12 13\n",
      "right\n",
      "0 0 0\n"
     ]
    }
   ],
   "source": [
    "while True :\n",
    "    a, b, c = map(int, input().split())\n",
    "    if a == 0 : break\n",
    "    print(\"right\" if c ** 2 == a ** 2 + b ** 2 or \n",
    "          b ** 2 == c ** 2 + a ** 2 or \n",
    "          a ** 2 == b ** 2 + c ** 2 else \"wrong\")"
   ]
  },
  {
   "cell_type": "markdown",
   "id": "74a68614",
   "metadata": {},
   "source": [
    "#### 10. 택시 기하학 ( N-3053 )"
   ]
  },
  {
   "cell_type": "markdown",
   "id": "522ff366",
   "metadata": {},
   "source": [
    "19세기 독일 수학자 헤르만 민코프스키는 비유클리드 기하학 중 택시 기하학을 고안했다.  \n",
    "  \n",
    "택시 기하학에서 두 점 T1(x1,y1), T2(x2,y2) 사이의 거리는 다음과 같이 구할 수 있다.  \n",
    "  \n",
    "D(T1,T2) = |x1-x2| + |y1-y2|  \n",
    "  \n",
    "두 점 사이의 거리를 제외한 나머지 정의는 유클리드 기하학에서의 정의와 같다.  \n",
    "  \n",
    "따라서 택시 기하학에서 원의 정의는 유클리드 기하학에서 원의 정의와 같다.  \n",
    "  \n",
    "원: 평면 상의 어떤 점에서 거리가 일정한 점들의 집합  \n",
    "  \n",
    "반지름 R이 주어졌을 때, 유클리드 기하학에서 원의 넓이와, 택시 기하학에서 원의 넓이를 구하는 프로그램을 작성하시오."
   ]
  },
  {
   "cell_type": "markdown",
   "id": "74e83c9e",
   "metadata": {},
   "source": [
    "- 입력\n",
    "  - 첫째 줄에 반지름 R이 주어진다. R은 10,000보다 작거나 같은 자연수이다."
   ]
  },
  {
   "cell_type": "code",
   "execution_count": 7,
   "id": "aa35c14e",
   "metadata": {},
   "outputs": [
    {
     "name": "stdout",
     "output_type": "stream",
     "text": [
      "21\n",
      "1385.442360\n",
      "882.000000\n"
     ]
    }
   ],
   "source": [
    "import math\n",
    "R = int(input())\n",
    "print(\"{:.6f}\".format(R ** 2 * math.pi))\n",
    "print(\"{:.6f}\".format(R ** 2 * 2))"
   ]
  },
  {
   "cell_type": "markdown",
   "id": "4a6442e8",
   "metadata": {},
   "source": [
    "#### 11. 터렛 ( N-1002 )"
   ]
  },
  {
   "cell_type": "markdown",
   "id": "c85dd243",
   "metadata": {},
   "source": [
    "조교현과 백승환은 터렛에 근무하는 직원이다. 하지만 워낙 존재감이 없어서 인구수는 차지하지 않는다. 다음은 조규현과 백승환의 사진이다.  \n",
    "  \n",
    "이석원은 조교현과 백승환에게 상대편 마린(류재명)의 위치를 계산하라는 명령을 내렸다. 조규현과 백승환은 각각 자신의 터렛 위치에서 현재 적까지의 거리를 계산했다.  \n",
    "  \n",
    "조규현의 좌표 (x1, y1)와 백승환의 좌표 (x2, y2)가 주어지고, 조규현이 계산한 류재명과의 거리 r1과 백승환이 계산한 류재명과의 거리 r2가 주어졌을 때, 류재명이 있을 수 있는 좌표의 수를 출력하는 프로그램을 작성하시오."
   ]
  },
  {
   "cell_type": "markdown",
   "id": "4252880b",
   "metadata": {},
   "source": [
    "- 입력\n",
    "  - 첫째 줄에 테스트 켕스의 개수 T가 주어진다. 각 테스트 케이스는 다음과 같이 이루어져 있다.\n",
    "  - 한 줄에 x1, y1, r1, x2, y2, r2가 주어진다. x1, y1, x2, y2는 -10,000보다 크거나 같고, 10,000보다 작거나 같은 정수이고, r1, r2는 10,000보다 작거나 같은 자연수이다."
   ]
  },
  {
   "cell_type": "code",
   "execution_count": 8,
   "id": "d95ce66e",
   "metadata": {},
   "outputs": [
    {
     "name": "stdout",
     "output_type": "stream",
     "text": [
      "3\n",
      "0 0 13 40 0 37\n",
      "2\n",
      "0 0 3 0 7 4\n",
      "1\n",
      "1 1 1 1 1 5\n",
      "0\n"
     ]
    }
   ],
   "source": [
    "T = int(input())\n",
    "\n",
    "for _ in range(T) :\n",
    "    x1, y1, r1, x2, y2, r2 = map(int, input().split())\n",
    "    dis = (x2 - x1) ** 2 + (y2 - y1) ** 2\n",
    "    if dis == 0 and r1 == r2 : \n",
    "        print(-1)\n",
    "    elif (r2 - r1) ** 2 == dis or (r2 + r1) ** 2 == dis : \n",
    "        print(1)\n",
    "    elif (r2 - r1) ** 2 < dis < (r2 + r1) ** 2 : \n",
    "        print(2)\n",
    "    else : print(0)"
   ]
  }
 ],
 "metadata": {
  "kernelspec": {
   "display_name": "Python 3",
   "language": "python",
   "name": "python3"
  },
  "language_info": {
   "codemirror_mode": {
    "name": "ipython",
    "version": 3
   },
   "file_extension": ".py",
   "mimetype": "text/x-python",
   "name": "python",
   "nbconvert_exporter": "python",
   "pygments_lexer": "ipython3",
   "version": "3.8.8"
  }
 },
 "nbformat": 4,
 "nbformat_minor": 5
}
