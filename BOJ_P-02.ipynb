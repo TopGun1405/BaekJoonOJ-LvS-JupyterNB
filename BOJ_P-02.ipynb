{
 "cells": [
  {
   "cell_type": "markdown",
   "id": "ae3d3eaa",
   "metadata": {},
   "source": [
    "#### 1. 두 수 비교하기 ( N-1330 )"
   ]
  },
  {
   "cell_type": "markdown",
   "id": "5f0217ae",
   "metadata": {},
   "source": [
    "두 정수 A와 B가 주어졌을 때, A와 B를 비교하는 프로그램을 작성하시오."
   ]
  },
  {
   "cell_type": "markdown",
   "id": "d19f6a6c",
   "metadata": {},
   "source": [
    "- 입력\n",
    "  - 첫째 줄에 A와 B가 주어진다. A와 B는 공백 한 칸으로 구분되어져 있다."
   ]
  },
  {
   "cell_type": "code",
   "execution_count": 1,
   "id": "39c55cf7",
   "metadata": {},
   "outputs": [
    {
     "name": "stdout",
     "output_type": "stream",
     "text": [
      "1 2\n",
      "<\n"
     ]
    }
   ],
   "source": [
    "A, B = map(int, input().split())\n",
    "\n",
    "if A > B : print(\">\")\n",
    "elif A < B : print(\"<\")\n",
    "else : print(\"==\")"
   ]
  },
  {
   "cell_type": "markdown",
   "id": "4f9ed559",
   "metadata": {},
   "source": [
    "#### 2. 시험 성적 ( N-9498 )"
   ]
  },
  {
   "cell_type": "markdown",
   "id": "6d16ac21",
   "metadata": {},
   "source": [
    "시험 점수를 입력받아 90 ~ 100점은 A, 80 ~ 89점은 B, 70 ~ 79점은 C, 60 ~ 69점은 D, 나머지 점수는 F를 출력하는 프로그램을 작성하시오."
   ]
  },
  {
   "cell_type": "markdown",
   "id": "f0469c09",
   "metadata": {},
   "source": [
    "- 입력\n",
    "  - 첫째 줄에 시험 점수가 주어진다. 시험 점수는 0보다 크거나 같고, 100보다 작거나 같은 정수이다."
   ]
  },
  {
   "cell_type": "code",
   "execution_count": 2,
   "id": "f990d41b",
   "metadata": {},
   "outputs": [
    {
     "name": "stdout",
     "output_type": "stream",
     "text": [
      "100\n",
      "A\n"
     ]
    }
   ],
   "source": [
    "score = int(input())\n",
    "\n",
    "# if 90 <= score <= 100 : print(\"A\")\n",
    "# elif 80 <= score <= 89 : print(\"B\")\n",
    "# elif 70 <= score <= 79 : print(\"C\")\n",
    "# elif 60 <= score <= 69 : print(\"D\")\n",
    "# else : print(\"F\")\n",
    "\n",
    "if score >= 90 and score <= 100 : print(\"A\")\n",
    "elif score >= 80 and score <= 89 : print(\"B\")\n",
    "elif score >= 70 and score <= 79 : print(\"C\")\n",
    "elif score >= 60 and score <= 69 : print(\"D\")\n",
    "else : print(\"F\")"
   ]
  },
  {
   "cell_type": "markdown",
   "id": "af145db9",
   "metadata": {},
   "source": [
    "#### 3. 윤년 ( N-2753 )"
   ]
  },
  {
   "cell_type": "markdown",
   "id": "6485607a",
   "metadata": {},
   "source": [
    "연도가 주어졌을 때, 윤년이면 1, 아니면 0을 출력하는 프로그램을 작성하시오.  \n",
    "윤년은 연도가 4의 배수이면서, 100의 배수가 아닐 때 또는 400의 배수일 때이다.  \n",
    "예를 들어, 2012년은 4의 배수이면서 100의 배수가 아니라서 윤년이다. 1900년은 100의 배수이고 400의 배수는 아니기 때문에 윤년이 아니다. 하지만, 2000년은 400의 배수이기 때문에 윤년이다."
   ]
  },
  {
   "cell_type": "markdown",
   "id": "fc62996e",
   "metadata": {},
   "source": [
    "- 입력\n",
    "  - 첫째 줄에 연도가 주어진다. 연도는 1보다 크거나 같고, 4000보다 작거나 같은 자연수이다."
   ]
  },
  {
   "cell_type": "code",
   "execution_count": 3,
   "id": "fcab715c",
   "metadata": {},
   "outputs": [
    {
     "name": "stdout",
     "output_type": "stream",
     "text": [
      "1999\n",
      "0\n"
     ]
    }
   ],
   "source": [
    "years = int(input())\n",
    "\n",
    "if years % 4 == 0 and not years % 100 == 0 :\n",
    "    print(\"1\")\n",
    "elif years % 4 == 0 and years % 400 == 0 :\n",
    "    print(\"1\")\n",
    "else :\n",
    "    print(\"0\")"
   ]
  },
  {
   "cell_type": "markdown",
   "id": "9dc50c3f",
   "metadata": {},
   "source": [
    "#### 4. 사분면 고르기 ( N-14681 )"
   ]
  },
  {
   "cell_type": "markdown",
   "id": "641833b8",
   "metadata": {},
   "source": [
    "흔한 수학 문제 중 하나는 주어진 점이 어느 사분면에 속하는지 알아내는 것이다. 사분면은 아래 그림처럼 1부터 4까지 번호를 갖는다. \"Quadrant n\"은 \"제n사분면\"이라는 뜻이다.  \n",
    "![](./p2-04.png)  \n",
    "예를 들어, 좌표가 (12, 5)인 점 A는 x좌표와 y좌표가 모두 양수이므로 제1사분면에 속한다. 점 B는 x좌표가 음수이고 y좌표가 양수이므로 제2사분면에 속한다.  \n",
    "점의 좌표를 입력받아 그 점이 어느 사분면에 속하는지 알아내는 프로그램을 작성하시오. 단, x좌표와 y좌표는 모두 양수나 음수라고 가정한다."
   ]
  },
  {
   "cell_type": "markdown",
   "id": "01be9227",
   "metadata": {},
   "source": [
    "- 입력\n",
    "  - 첫 줄에는 정수 x가 주어진다. (−1000 ≤ x ≤ 1000; x ≠ 0) 다음 줄에는 정수 y가 주어진다. (−1000 ≤ y ≤ 1000; y ≠ 0)"
   ]
  },
  {
   "cell_type": "code",
   "execution_count": 4,
   "id": "60db2b1f",
   "metadata": {},
   "outputs": [
    {
     "name": "stdout",
     "output_type": "stream",
     "text": [
      "12\n",
      "5\n",
      "1\n"
     ]
    }
   ],
   "source": [
    "x = int(input())\n",
    "y = int(input())\n",
    "\n",
    "if x > 0 and y > 0 : print(\"1\")\n",
    "elif x < 0 and y > 0 : print(\"2\")\n",
    "elif x < 0 and y < 0 : print(\"3\")\n",
    "elif x > 0 and y < 0 : print(\"4\")"
   ]
  },
  {
   "cell_type": "markdown",
   "id": "23eb90f7",
   "metadata": {},
   "source": [
    "#### 5. 알람 시계 ( N-2884 )"
   ]
  },
  {
   "cell_type": "markdown",
   "id": "fd33c49b",
   "metadata": {},
   "source": [
    "상근이는 매일 아침 알람을 듣고 일어난다. 알람을 듣고 바로 일어나면 다행이겠지만, 항상 조금만 더 자려는 마음 때문에 매일 학교를 지각하고 있다.  \n",
    "  \n",
    "상근이는 모든 방법을 동원해보았지만, 조금만 더 자려는 마음은 그 어떤 것도 없앨 수가 없었다.  \n",
    "  \n",
    "이런 상근이를 불쌍하게 보던, 창영이는 자신이 사용하는 방법을 추천해 주었다.  \n",
    "  \n",
    "바로 \"45분 일찍 알람 설정하기\"이다.  \n",
    "  \n",
    "이 방법은 단순하다. 원래 설정되어 있는 알람을 45분 앞서는 시간으로 바꾸는 것이다. 어차피 알람 소리를 들으면, 알람을 끄고 조금 더 잘 것이기 때문이다. 이 방법을 사용하면, 매일 아침 더 잤다는 기분을 느낄 수 있고, 학교도 지각하지 않게 된다.  \n",
    "  \n",
    "현재 상근이가 설정한 알람 시각이 주어졌을 때, 창영이의 방법을 사용한다면, 이를 언제로 고쳐야 하는지 구하는 프로그램을 작성하시오."
   ]
  },
  {
   "cell_type": "markdown",
   "id": "1789c01f",
   "metadata": {},
   "source": [
    "- 입력\n",
    "  - 첫째 줄에 두 정수 H와 M이 주어진다. (0 ≤ H ≤ 23, 0 ≤ M ≤ 59) 그리고 이것은 현재 상근이가 설정한 놓은 알람 시간 H시 M분을 의미한다.\n",
    "  - 입력 시간은 24시간 표현을 사용한다. 24시간 표현에서 하루의 시작은 0:0(자정)이고, 끝은 23:59(다음날 자정 1분 전)이다. 시간을 나타낼 때, 불필요한 0은 사용하지 않는다."
   ]
  },
  {
   "cell_type": "code",
   "execution_count": 5,
   "id": "c2d38937",
   "metadata": {},
   "outputs": [
    {
     "name": "stdout",
     "output_type": "stream",
     "text": [
      "0 30\n",
      "23 45\n"
     ]
    }
   ],
   "source": [
    "H, M = map(int, input().split())\n",
    "\n",
    "if M - 45 >= 0 : print(\"{} {}\".format(H, M - 45))\n",
    "else : \n",
    "    if H - 1 == -1 :\n",
    "        print(\"{} {}\".format(H + 23, 60 - (45 - M)))\n",
    "    else :\n",
    "        print(\"{} {}\".format(H - 1, 60 - (45 - M)))"
   ]
  },
  {
   "cell_type": "markdown",
   "id": "bffa247f",
   "metadata": {},
   "source": [
    "#### 6. 오븐 시계 ( N-2525 )"
   ]
  },
  {
   "cell_type": "markdown",
   "id": "f5eb63eb",
   "metadata": {},
   "source": [
    "KOI 전자에서는 건강에 좋고 맛있는 훈제오리구이 요리를 간편하게 만드는 인공지능 오븐을 개발하려고 한다. 인공지능 오븐을 사용하는 방법은 적당한 양의 오리 훈제 재료를 인공지능 오븐에 넣으면 된다. 그러면 인공지능 오븐은 오븐구이가 끝나는 시간을 분 단위로 자동적으로 계산한다.  \n",
    "  \n",
    "또한, KOI 전자의 인공지능 오븐 앞면에는 사용자에게 훈제오리구이 요리가 끝나는 시각을 알려 주는 디지털 시계가 있다.  \n",
    "  \n",
    "훈제오리구이를 시작하는 시각과 오븐구이를 하는 데 필요한 시간이 분단위로 주어졌을 때, 오븐구이가 끝나는 시각을 계산하는 프로그램을 작성하시오."
   ]
  },
  {
   "cell_type": "markdown",
   "id": "827f696c",
   "metadata": {},
   "source": [
    "- 입력\n",
    "  - 첫째 줄에는 현재 시각이 나온다. 현재 시각은 시 A (0 ≤ A ≤ 23) 와 분 B (0 ≤ B ≤ 59)가 정수로 빈칸을 사이에 두고 순서대로 주어진다. 두 번째 줄에는 요리하는 데 필요한 시간 C (0 ≤ C ≤ 1,000)가 분 단위로 주어진다. "
   ]
  },
  {
   "cell_type": "code",
   "execution_count": 6,
   "id": "a56acf04",
   "metadata": {},
   "outputs": [
    {
     "name": "stdout",
     "output_type": "stream",
     "text": [
      "23 48\n",
      "25\n",
      "0 13\n"
     ]
    }
   ],
   "source": [
    "A, B = map(int, input().split())\n",
    "C = int(input())\n",
    "\n",
    "if (B + C) / 60 == 0 : print(\"{} {}\".format(int(A), B + C))\n",
    "else :\n",
    "    if A + ((B + C) / 60) < 24 :\n",
    "        print(\"{} {}\".format(int(A + ((B + C) / 60)), (B + C) % 60))\n",
    "    else :\n",
    "        print(\"{} {}\".format(int(A + ((B + C) / 60) - 24), (B + C) % 60))"
   ]
  },
  {
   "cell_type": "markdown",
   "id": "7ffdf374",
   "metadata": {},
   "source": [
    "#### 7. 주사위 세개 ( N-2480 )"
   ]
  },
  {
   "cell_type": "markdown",
   "id": "fe0e4f70",
   "metadata": {},
   "source": [
    "1에서부터 6까지의 눈을 가진 3개의 주사위를 던져서 다음과 같은 규칙에 따라 상금을 받는 게임이 있다.   \n",
    "  \n",
    "1. 같은 눈이 3개가 나오면 10,000원+(같은 눈)×1,000원의 상금을 받게 된다.  \n",
    "2. 같은 눈이 2개만 나오는 경우에는 1,000원+(같은 눈)×100원의 상금을 받게 된다.  \n",
    "3. 모두 다른 눈이 나오는 경우에는 (그 중 가장 큰 눈)×100원의 상금을 받게 된다.  \n",
    "  \n",
    "예를 들어, 3개의 눈 3, 3, 6이 주어지면 상금은 1,000+3×100으로 계산되어 1,300원을 받게 된다. 또 3개의 눈이 2, 2, 2로 주어지면 10,000+2×1,000 으로 계산되어 12,000원을 받게 된다. 3개의 눈이 6, 2, 5로 주어지면 그중 가장 큰 값이 6이므로 6×100으로 계산되어 600원을 상금으로 받게 된다.  \n",
    "  \n",
    "3개 주사위의 나온 눈이 주어질 때, 상금을 계산하는 프로그램을 작성 하시오."
   ]
  },
  {
   "cell_type": "markdown",
   "id": "6ed7419f",
   "metadata": {},
   "source": [
    "- 입력\n",
    "  - 첫째 줄에 3개의 눈이 빈칸을 사이에 두고 각각 주어진다."
   ]
  },
  {
   "cell_type": "code",
   "execution_count": 7,
   "id": "901ce8ab",
   "metadata": {},
   "outputs": [
    {
     "name": "stdout",
     "output_type": "stream",
     "text": [
      "6 2 5\n",
      "600\n"
     ]
    }
   ],
   "source": [
    "A, B, C = map(int, input().split())\n",
    "\n",
    "if A == B and B == C :\n",
    "    print(10000 + A * 1000)\n",
    "elif A == B and not B == C :\n",
    "    print(1000 + A * 100)\n",
    "elif B == C and not C == A :\n",
    "    print(1000 + B * 100)\n",
    "elif C == A and not A == B :\n",
    "    print(1000 + C * 100)\n",
    "else :\n",
    "    print(max(A, B, C) * 100)\n",
    "    # (A if A > B and A > C else B if B > C and B > A else C)"
   ]
  }
 ],
 "metadata": {
  "kernelspec": {
   "display_name": "Python 3",
   "language": "python",
   "name": "python3"
  },
  "language_info": {
   "codemirror_mode": {
    "name": "ipython",
    "version": 3
   },
   "file_extension": ".py",
   "mimetype": "text/x-python",
   "name": "python",
   "nbconvert_exporter": "python",
   "pygments_lexer": "ipython3",
   "version": "3.8.8"
  }
 },
 "nbformat": 4,
 "nbformat_minor": 5
}
