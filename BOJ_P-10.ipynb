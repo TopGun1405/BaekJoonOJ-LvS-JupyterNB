{
 "cells": [
  {
   "cell_type": "markdown",
   "id": "31172dc5",
   "metadata": {},
   "source": [
    "#### 1. 블랙잭 ( N-2798 )"
   ]
  },
  {
   "cell_type": "markdown",
   "id": "6e432adc",
   "metadata": {},
   "source": [
    "카지노에서 제일 인기 있는 게임 블랙잭의 규칙은 상당히 쉽다. 카드의 합이 21을 넘지 않는 한도 내에서, 카드의 합을 최대한 크게 만드는 게임이다. 블랙잭은 카지노마다 다양한 규정이 있다.  \n",
    "  \n",
    "한국 최고의 블랙잭 고수 김정인은 새로운 블랙잭 규칙을 만들어 상근, 창영이와 게임하려고 한다.  \n",
    "  \n",
    "김정인 버전의 블랙잭에서 각 카드에는 양의 정수가 쓰여 있다. 그 다음, 딜러는 N장의 카드를 모두 숫자가 보이도록 바닥에 놓는다. 그런 후에 딜러는 숫자 M을 크게 외친다.  \n",
    "  \n",
    "이제 플레이어는 제한된 시간 안에 N장의 카드 중에서 3장의 카드를 골라야 한다. 블랙잭 변형 게임이기 때문에, 플레이어가 고른 카드의 합은 M을 넘지 않으면서 M과 최대한 가깝게 만들어야 한다.  \n",
    "  \n",
    "N장의 카드에 써져 있는 숫자가 주어졌을 때, M을 넘지 않으면서 M네 최대한 가까운 카드 3장의 합을 구해 출력하시오."
   ]
  },
  {
   "cell_type": "markdown",
   "id": "470aa6ff",
   "metadata": {},
   "source": [
    "- 입력\n",
    "  - 첫째 줄에 카드의 개수 N(3 ≤ N ≤ 100)과 M(10 ≤ M ≤ 300,000)이 주어진다. 둘째 줄에는 카드에 쓰여 있는 수가 주어지며, 이 값은 100,000을 넘지 않는 양의 정수이다.\n",
    "  - 합이 M을 넘지 않는 카드 3장을 찾을 수 있는 경우만 입력으로 주어진다."
   ]
  },
  {
   "cell_type": "code",
   "execution_count": 1,
   "id": "f111a054",
   "metadata": {},
   "outputs": [
    {
     "name": "stdout",
     "output_type": "stream",
     "text": [
      "10 500\n",
      "93 181 245 214 315 36 185 138 216 295\n",
      "497\n"
     ]
    }
   ],
   "source": [
    "N, M = map(int, input().split())\n",
    "num = list(map(int, input().split()))\n",
    "\n",
    "sum_list = [num[i] + num[j] + num[k] \n",
    "            for i in range(0, N) \n",
    "            for j in range(i + 1, N) \n",
    "            for k in range(j + 1, N)\n",
    "            if num[i] + num[j] + num[k] <= M]\n",
    "\n",
    "print(max(sum_list))"
   ]
  },
  {
   "cell_type": "markdown",
   "id": "824a3198",
   "metadata": {},
   "source": [
    "#### 2. 분해합 ( N-2231 )"
   ]
  },
  {
   "cell_type": "markdown",
   "id": "b24e5643",
   "metadata": {},
   "source": [
    "어떤 자연수 N이 있을 때, 그 자연수 N의 분해합은 N과 N을 이루는 각 자리수의 합을 의미한다. 어떤 자연수 M의 분해합이 N인 경우, M을 N의 생성자라 한다. 예를 들어, 245의 분해합은 256(=245+2+4+5)이 된다. 따라서 245는 256의 생성자가 된다. 물론, 어떤 자연수의 경우에는 생성자가 없을 수도 있다. 반대로, 생성자가 여러 개인 자연수도 있을 수 있다.  \n",
    "  \n",
    "자연수 N이 주어졌을 때, N의 가장 작은 생성자를 구해내는 프로그램을 작성하시오."
   ]
  },
  {
   "cell_type": "markdown",
   "id": "2a10f5c3",
   "metadata": {},
   "source": [
    "- 입력\n",
    "  - 첫째 줄에 자연수 N(1 ≤ N ≤ 1,000,000)이 주어진다."
   ]
  },
  {
   "cell_type": "code",
   "execution_count": 2,
   "id": "dd4e9e98",
   "metadata": {},
   "outputs": [
    {
     "name": "stdout",
     "output_type": "stream",
     "text": [
      "216\n",
      "198\n"
     ]
    }
   ],
   "source": [
    "N = int(input())\n",
    "decompose = []\n",
    "for n in range(N):\n",
    "    divide_num = list(map(int, list(str(n))))\n",
    "    if n + sum(divide_num) == N:\n",
    "        decompose.append(n)\n",
    "try:\n",
    "    print(min(decompose))\n",
    "except:\n",
    "    print(0)"
   ]
  },
  {
   "cell_type": "markdown",
   "id": "01a4bc62",
   "metadata": {},
   "source": [
    "#### 3. 덩치 ( N-7568 )"
   ]
  },
  {
   "cell_type": "markdown",
   "id": "431f71c2",
   "metadata": {},
   "source": [
    "우리는 사람의 덩치를 키와 몸무게, 이 두 개의 값으로 표현하여 그 등수를 매겨보려고 한다. 어떤 사람의 몸무게가 x kg이고 키가 y cm라면 이 사람의 덩치는 (x, y)로 표시된다. 두 사람 A와 B의 덩치가 각각 (x, y), (p, q)라고 할 때 x > p 그리고 y > q 이라면 우리는 A의 덩치가 B의 덩치보다 \"더 크다\"고 말한다. 예를 들어 어떤 A, B 두 사람의 덩치가 각각 (56, 177), (45, 165) 라고 한다면 A의 덩치가 B보다 큰 셈이 된다. 그런데 서로 다른 덩치끼리 크기를 정할 수 없는 경우도 있다. 예를 들어 두 사람 C와 D의 덩치가 각각 (45, 181), (55, 173)이라면 몸무게는 D가 C보다 더 무겁고, 키는 C가 더 크므로, \"덩치\"로만 볼 때 C와 D는 누구도 상대방보다 더 크다고 말할 수 없다.  \n",
    "  \n",
    "N명의 집단에서 각 사람의 덩치 등수는 자신보다 더 \"큰 덩치\"의 사람의 수로 정해진다. 만일 자신보다 더 큰 덩치의 사람이 k명이라면 그 사람의 덩치 등수는 k+1이 된다. 이렇게 등수를 결정하면 같은 덩치 등수를 가진 사람은 여러 명도 가능하다. 아래는 5명으로 이루어진 집단에서 각 사람의 덩치와 그 등수가 표시된 표이다.\n",
    "  \n",
    "위 표에서 C보다 더 큰 덩치의 사람이 없으므로 C는 1등이 된다. 그리고 A, B, D 각각의 덩치보다 큰 사람은 C뿐이므로 이들은 모두 2등이 된다. 그리고 E보다 큰 덩치는 A, B, C, D 이렇게 4명이므로 E의 덩치는 5등이 된다. 위 경우에 3등과 4등은 존재하지 않는다. 여러분은 학생 N명의 몸무게와 키가 담긴 입력을 읽어서 각 사람의 덩치 등수를 계산하여 출력해야 한다."
   ]
  },
  {
   "cell_type": "markdown",
   "id": "0c0fb5b2",
   "metadata": {},
   "source": [
    "- 입력\n",
    "  - 첫 줄에는 전체 사람의 수 N이 주어진다. 그리고 이어지는 N개의 줄에는 각 사람의 몸무게와 키를 나타내는 양의 정수 x와 y가 하나의 공백을 두고 각각 나타난다."
   ]
  },
  {
   "cell_type": "code",
   "execution_count": 3,
   "id": "b29e3df3",
   "metadata": {},
   "outputs": [
    {
     "name": "stdout",
     "output_type": "stream",
     "text": [
      "5\n",
      "55 185\n",
      "58 183\n",
      "88 186\n",
      "60 175\n",
      "46 155\n",
      "2 2 1 2 5 "
     ]
    }
   ],
   "source": [
    "N = int(input())\n",
    "build = [tuple(map(int, input().split())) for _ in range(N)]\n",
    "ranking = [0 for _ in range(N)]\n",
    "\n",
    "for i in range(0, N):\n",
    "    bigger = 0\n",
    "    for j in range(0, N):\n",
    "        if build[i][0] < build[j][0] and build[i][1] < build[j][1] and i != j:\n",
    "            bigger += 1\n",
    "    ranking[i] = bigger + 1\n",
    "\n",
    "for r in ranking:\n",
    "    print(r, end=\" \")"
   ]
  }
 ],
 "metadata": {
  "kernelspec": {
   "display_name": "Python 3",
   "language": "python",
   "name": "python3"
  },
  "language_info": {
   "codemirror_mode": {
    "name": "ipython",
    "version": 3
   },
   "file_extension": ".py",
   "mimetype": "text/x-python",
   "name": "python",
   "nbconvert_exporter": "python",
   "pygments_lexer": "ipython3",
   "version": "3.8.8"
  }
 },
 "nbformat": 4,
 "nbformat_minor": 5
}
