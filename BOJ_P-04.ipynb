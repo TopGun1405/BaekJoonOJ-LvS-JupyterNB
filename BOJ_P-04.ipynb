{
 "cells": [
  {
   "cell_type": "markdown",
   "id": "fedacd40",
   "metadata": {},
   "source": [
    "#### 1. A+B - 5 ( N-10952 )"
   ]
  },
  {
   "cell_type": "markdown",
   "id": "7a9cc040",
   "metadata": {},
   "source": [
    "두 정수 A와 B를 입력받은 다음, A + B를 출력하는 프로그램을 작성하시오."
   ]
  },
  {
   "cell_type": "markdown",
   "id": "834889e4",
   "metadata": {},
   "source": [
    "- 입력\n",
    "  - 입력은 여러 개의 테스트 케이스로 이루어져 있다.\n",
    "  - 각 테스트 케이스는 한 줄로 이루어져 있으며, 각 줄에 A와 B가 주어진다. (0 < A, B < 10)\n",
    "  - 입력의 마지막에는 0 두 개가 들어온다."
   ]
  },
  {
   "cell_type": "code",
   "execution_count": 1,
   "id": "a195c8d4",
   "metadata": {},
   "outputs": [
    {
     "name": "stdout",
     "output_type": "stream",
     "text": [
      "1 1\n",
      "2\n",
      "2 3\n",
      "5\n",
      "3 4\n",
      "7\n",
      "9 8\n",
      "17\n",
      "5 2\n",
      "7\n",
      "0 0\n"
     ]
    }
   ],
   "source": [
    "while True :\n",
    "    A, B = map(int, input().split())\n",
    "    \n",
    "    if A + B == 0 : break\n",
    "    print(A + B)"
   ]
  },
  {
   "cell_type": "markdown",
   "id": "d5980606",
   "metadata": {},
   "source": [
    "#### 2. A+B - 4 ( N-10951 )"
   ]
  },
  {
   "cell_type": "markdown",
   "id": "056306b8",
   "metadata": {},
   "source": [
    "두 정수 A와 B를 입력받은 다음, A + B를 출력하는 프로그램을 작성하시오."
   ]
  },
  {
   "cell_type": "markdown",
   "id": "f0a74bd2",
   "metadata": {},
   "source": [
    "- 입력\n",
    "  - 입력은 여러 개의 테스트 케이스로 이루어져 있다.\n",
    "  - 각 테스트 케이스는 한 줄로 이루어져 있으며, 각 줄에 A와 B가 주어진다. (0 < A, B < 10)"
   ]
  },
  {
   "cell_type": "code",
   "execution_count": 2,
   "id": "bfcf7c17",
   "metadata": {},
   "outputs": [
    {
     "name": "stdout",
     "output_type": "stream",
     "text": [
      "1 1\n",
      "2\n",
      "2 3\n",
      "5\n",
      "3 4\n",
      "7\n",
      "9 8\n",
      "17\n",
      "5 2\n",
      "7\n",
      "\n"
     ]
    }
   ],
   "source": [
    "while True :\n",
    "    try :\n",
    "        A, B = map(int, input().split())\n",
    "        \n",
    "        print(A + B)\n",
    "    except :\n",
    "        break"
   ]
  },
  {
   "cell_type": "markdown",
   "id": "1557913d",
   "metadata": {},
   "source": [
    "#### 3. 더하기 사이클 ( N-1110 )"
   ]
  },
  {
   "cell_type": "markdown",
   "id": "1c9f1a2a",
   "metadata": {},
   "source": [
    "0보다 크거나 같고, 99보다 작거나 같은 정수가 주어질 때 다음과 같은 연산을 할 수 있다. 먼저 주어진 수가 10보다 작다면 앞에 0을 붙여 두 자리 수로 만들고, 각 자리의 숫자를 더한다. 그 다음, 주어진 수의 가장 오른쪽 자리 수와 앞에서 구한 합의 가장 오른쪽 자리 수를 이어 붙이면 새로운 수를 만들 수 있다. 다음 예를 보자.  \n",
    "  \n",
    "26부터 시작한다. 2+6 = 8이다. 새로운 수는 68이다. 6+8 = 14이다. 새로운 수는 84이다. 8+4 = 12이다. 새로운 수는 42이다. 4+2 = 6이다. 새로운 수는 26이다.  \n",
    "  \n",
    "위의 예는 4번만에 원래 수로 돌아올 수 있다. 따라서 26의 사이클의 길이는 4이다.  \n",
    "  \n",
    "N이 주어졌을 때, N의 사이클의 길이를 구하는 프로그램을 작성하시오."
   ]
  },
  {
   "cell_type": "markdown",
   "id": "d296ddfe",
   "metadata": {},
   "source": [
    "- 입력\n",
    "  - 첫째 줄에 N이 주어진다. N은 0보다 크거나 같고, 99보다 작거나 같은 정수이다."
   ]
  },
  {
   "cell_type": "code",
   "execution_count": 3,
   "id": "85dc18e4",
   "metadata": {},
   "outputs": [
    {
     "name": "stdout",
     "output_type": "stream",
     "text": [
      "26\n",
      "4\n"
     ]
    }
   ],
   "source": [
    "N = int(input())\n",
    "num, t = N, 0\n",
    "\n",
    "while True :\n",
    "    num = (num % 10) * 10 + ((num // 10 + num % 10) % 10)\n",
    "    t += 1\n",
    "    if num == N : break\n",
    "\n",
    "print(t)"
   ]
  }
 ],
 "metadata": {
  "kernelspec": {
   "display_name": "Python 3",
   "language": "python",
   "name": "python3"
  },
  "language_info": {
   "codemirror_mode": {
    "name": "ipython",
    "version": 3
   },
   "file_extension": ".py",
   "mimetype": "text/x-python",
   "name": "python",
   "nbconvert_exporter": "python",
   "pygments_lexer": "ipython3",
   "version": "3.8.8"
  }
 },
 "nbformat": 4,
 "nbformat_minor": 5
}
