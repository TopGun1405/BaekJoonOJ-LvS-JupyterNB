{
 "cells": [
  {
   "cell_type": "markdown",
   "id": "ebf46ef7",
   "metadata": {},
   "source": [
    "#### 1. 최소, 최대 ( N-10818 )"
   ]
  },
  {
   "cell_type": "markdown",
   "id": "3a55651d",
   "metadata": {},
   "source": [
    "N개의 정수가 주어진다. 이때, 최솟값과 최댓값을 구하는 프로그램을 작성하시오."
   ]
  },
  {
   "cell_type": "markdown",
   "id": "1b833d19",
   "metadata": {},
   "source": [
    "- 입력\n",
    "  - 첫째 줄에 정수의 개수 N (1 ≤ N ≤ 1,000,000)이 주어진다. 둘째 줄에는 N개의 정수를 공백으로 구분해서 주어진다. 모든 정수는 -1,000,000보다 크거나 같고, 1,000,000보다 작거나 같은 정수이다."
   ]
  },
  {
   "cell_type": "code",
   "execution_count": 1,
   "id": "44baf028",
   "metadata": {},
   "outputs": [
    {
     "name": "stdout",
     "output_type": "stream",
     "text": [
      "5\n",
      "20 10 35 30 7\n",
      "7 35\n"
     ]
    }
   ],
   "source": [
    "N = int(input())\n",
    "num_list = list(map(int, input().split()))\n",
    "\n",
    "print(min(num_list), max(num_list))"
   ]
  },
  {
   "cell_type": "markdown",
   "id": "08d28d60",
   "metadata": {},
   "source": [
    "#### 2. 최댓값 ( N-2562 )"
   ]
  },
  {
   "cell_type": "markdown",
   "id": "197844df",
   "metadata": {},
   "source": [
    "9개의 서로 다른 자연수가 주어질 때, 이들 중 최댓값을 찾고 그 최댓값이 몇 번째 수인지를 구하는 프로그램을 작성하시오.  \n",
    "  \n",
    "예를 들어, 서로 다른 9개의 자연수  \n",
    "  \n",
    "3, 29, 38, 12, 57, 74, 40, 85, 61  \n",
    "  \n",
    "이 주어지면, 이들 중 최댓값은 85이고, 이 값은 8번째 수이다.  "
   ]
  },
  {
   "cell_type": "markdown",
   "id": "5b0a21cf",
   "metadata": {},
   "source": [
    "- 입력\n",
    "  - 첫째 줄부터 아홉 번째 줄까지 한 줄에 하나의 자연수가 주어진다. 주어지는 자연수는 100 보다 작다."
   ]
  },
  {
   "cell_type": "code",
   "execution_count": 2,
   "id": "0c52f422",
   "metadata": {},
   "outputs": [
    {
     "name": "stdout",
     "output_type": "stream",
     "text": [
      "3\n",
      "29\n",
      "38\n",
      "12\n",
      "57\n",
      "74\n",
      "40\n",
      "85\n",
      "61\n",
      "85\n",
      "8\n"
     ]
    }
   ],
   "source": [
    "num = [int(input()) for i in range(9)]\n",
    "\n",
    "print(max(num))\n",
    "print(num.index(max(num)) + 1)"
   ]
  },
  {
   "cell_type": "markdown",
   "id": "f4656da5",
   "metadata": {},
   "source": [
    "#### 3. 숫자의 개수 ( N-2577 )"
   ]
  },
  {
   "cell_type": "markdown",
   "id": "28c8b178",
   "metadata": {},
   "source": [
    "세 개의 자연수 A, B, C가 주어질 때 A × B × C를 계산한 결과에 0부터 9까지 각각의 숫자가 몇 번씩 쓰였는지를 구하는 프로그램을 작성하시오.  \n",
    "  \n",
    "예를 들어 A = 150, B = 266, C = 427 이라면 A × B × C = 150 × 266 × 427 = 17037300 이 되고, 계산한 결과 17037300 에는 0이 3번, 1이 1번, 3이 2번, 7이 2번 쓰였다."
   ]
  },
  {
   "cell_type": "markdown",
   "id": "20b9b4c1",
   "metadata": {},
   "source": [
    "- 입력\n",
    "  - 첫째 줄에 A, 둘째 줄에 B, 셋째 줄에 C가 주어진다. A, B, C는 모두 100보다 크거나 같고, 1,000보다 작은 자연수이다."
   ]
  },
  {
   "cell_type": "code",
   "execution_count": 3,
   "id": "908af3d1",
   "metadata": {},
   "outputs": [
    {
     "name": "stdout",
     "output_type": "stream",
     "text": [
      "150\n",
      "266\n",
      "427\n",
      "3\n",
      "1\n",
      "0\n",
      "2\n",
      "0\n",
      "0\n",
      "0\n",
      "2\n",
      "0\n",
      "0\n"
     ]
    }
   ],
   "source": [
    "element = [int(input()) for i in range(3)]\n",
    "element = list(map(int, list(str(element[0] * element[1] * element[2]))))\n",
    "\n",
    "for i in range(10) :\n",
    "    print(element.count(i))"
   ]
  },
  {
   "cell_type": "markdown",
   "id": "fc2b3068",
   "metadata": {},
   "source": [
    "#### 4. 나머지 ( N-3052 )"
   ]
  },
  {
   "cell_type": "markdown",
   "id": "efb52ce8",
   "metadata": {},
   "source": [
    "두 자연수 A와 B가 있을 때, A%B는 A를 B로 나눈 나머지 이다. 예를 들어, 7, 14, 27, 38을 3으로 나눈 나머지는 1, 2, 0, 2이다.  \n",
    "  \n",
    "수 10개를 입력받은 뒤, 이를 42로 나눈 나머지를 구한다. 그 다음 서로 다른 값이 몇 개 있는지 출력하는 프로그램을 작성하시오."
   ]
  },
  {
   "cell_type": "markdown",
   "id": "39afe535",
   "metadata": {},
   "source": [
    "- 입력\n",
    "  - 첫째 줄부터 열번째 줄 까지 숫자가 한 줄에 하나씩 주어진다. 이 숫자는 1,000보다 작거나 같고, 음이 아닌 정수이다."
   ]
  },
  {
   "cell_type": "code",
   "execution_count": 4,
   "id": "301ab648",
   "metadata": {},
   "outputs": [
    {
     "name": "stdout",
     "output_type": "stream",
     "text": [
      "1\n",
      "2\n",
      "3\n",
      "4\n",
      "5\n",
      "6\n",
      "7\n",
      "8\n",
      "9\n",
      "10\n",
      "10\n"
     ]
    }
   ],
   "source": [
    "remainder = {int(input()) % 42 for i in range(10)}\n",
    "\n",
    "print(len(remainder))"
   ]
  },
  {
   "cell_type": "markdown",
   "id": "52ed036c",
   "metadata": {},
   "source": [
    "#### 5. 평균 ( N-1546 )"
   ]
  },
  {
   "cell_type": "markdown",
   "id": "93522e1b",
   "metadata": {},
   "source": [
    "세준이는 기말고사를 망쳤다. 세준이는 점수를 조작해서 집에 가져가기로 했다. 일단 세준이는 자기 점수 중에 최댓값을 골랐다. 이 값을 M이라고 한다. 그리고 나서 모든 점수를 점수 / M * 100으로 고쳤다.  \n",
    "  \n",
    "예를 들어, 세준이의 최고점이 70이고, 수학점수가 50이었으면 수학점수는 50 / 70 * 100이 되어 71.43점이 된다.  \n",
    "  \n",
    "세준이의 성적을 위의 방법대로 새로 계산했을 때, 새로운 평균을 구하는 프로그램을 작성하시오."
   ]
  },
  {
   "cell_type": "markdown",
   "id": "33601dff",
   "metadata": {},
   "source": [
    "- 입력\n",
    "  - 첫째 줄에 시험 본 과목의 개수 N이 주어진다. 이 값은 1000보다 작거나 같다. 둘째 줄에 세준이의 현재 성적이 주어진다. 이 값은 100보다 작거나 같은 음이 아닌 정수이고, 적어도 하나의 값은 0보다 크다."
   ]
  },
  {
   "cell_type": "code",
   "execution_count": 5,
   "id": "0002cf83",
   "metadata": {},
   "outputs": [
    {
     "name": "stdout",
     "output_type": "stream",
     "text": [
      "3\n",
      "40 80 60\n",
      "75.0\n"
     ]
    }
   ],
   "source": [
    "N = int(input())\n",
    "org = list(map(int, input().split()))\n",
    "new = [org[i] / max(org) * 100 for i in range(N)]\n",
    "\n",
    "print(sum(new) / N)"
   ]
  },
  {
   "cell_type": "markdown",
   "id": "6536daf6",
   "metadata": {},
   "source": [
    "#### 6. OX퀴즈 ( N-8958 )"
   ]
  },
  {
   "cell_type": "markdown",
   "id": "6085a63b",
   "metadata": {},
   "source": [
    "\"OOXXOXXOOO\"와 같은 OX퀴즈의 결과가 있다. O는 문제를 맞은 것이고, X는 문제를 틀린 것이다. 문제를 맞은 경우 그 문제의 점수는 그 문제까지 연속된 O의 개수가 된다. 예를 들어, 10번 문제의 점수는 3이 된다.  \n",
    "  \n",
    "\"OOXXOXXOOO\"의 점수는 1+2+0+0+1+0+0+1+2+3 = 10점이다.  \n",
    "  \n",
    "OX퀴즈의 결과가 주어졌을 때, 점수를 구하는 프로그램을 작성하시오."
   ]
  },
  {
   "cell_type": "markdown",
   "id": "a5465072",
   "metadata": {},
   "source": [
    "- 입력\n",
    "  - 첫째 줄에 테스트 케이스의 개수가 주어진다. 각 테스트 케이스는 한 줄로 이루어져 있고, 길이가 0보다 크고 80보다 작은 문자열이 주어진다. 문자열은 O와 X만으로 이루어져 있다."
   ]
  },
  {
   "cell_type": "code",
   "execution_count": 6,
   "id": "b8b8fbe5",
   "metadata": {},
   "outputs": [
    {
     "name": "stdout",
     "output_type": "stream",
     "text": [
      "5\n",
      "OOXXOXXOOO\n",
      "10\n",
      "OOXXOOXXOO\n",
      "9\n",
      "OXOXOXOXOXOXOX\n",
      "7\n",
      "OOOOOOOOOO\n",
      "55\n",
      "OOOOXOOOOXOOOOX\n",
      "30\n"
     ]
    }
   ],
   "source": [
    "T = int(input())\n",
    "\n",
    "for t in range(T) :\n",
    "    result = input()\n",
    "    score, chain = 0, 1\n",
    "    \n",
    "    for r in range(len(result)) :\n",
    "        if result[r] == 'O' :\n",
    "            score, chain = score + chain, chain + 1\n",
    "        else : chain = 1\n",
    "            \n",
    "    print(score)"
   ]
  },
  {
   "cell_type": "markdown",
   "id": "e7ef722a",
   "metadata": {},
   "source": [
    "#### 7. 평균은 넘겠지 ( N-4344 )"
   ]
  },
  {
   "cell_type": "markdown",
   "id": "a833b200",
   "metadata": {},
   "source": [
    "대학생 새내기들의 90%는 자신이 반에서 평균은 넘는다고 생각한다. 당신은 그들에게 슬픈 진실을 알려줘야 한다."
   ]
  },
  {
   "cell_type": "markdown",
   "id": "35e987f0",
   "metadata": {},
   "source": [
    "- 입력\n",
    "  - 첫째 줄에는 테스트 케이스의 개수 C가 주어진다.\n",
    "  - 둘째 줄부터 각 테스트 케이스마다 학생의 수 N(1 ≤ N ≤ 1000, N은 정수)이 첫 수로 주어지고, 이어서 N명의 점수가 주어진다. 점수는 0보다 크거나 같고, 100보다 작거나 같은 정수이다."
   ]
  },
  {
   "cell_type": "code",
   "execution_count": 7,
   "id": "c06857b5",
   "metadata": {},
   "outputs": [
    {
     "name": "stdout",
     "output_type": "stream",
     "text": [
      "5\n",
      "5 50 50 70 80 100\n",
      "40.000%\n",
      "7 100 95 90 80 70 60 50\n",
      "57.143%\n",
      "3 70 90 80\n",
      "33.333%\n",
      "3 70 90 81\n",
      "66.667%\n",
      "9 100 99 98 97 96 95 94 93 91\n",
      "55.556%\n"
     ]
    }
   ],
   "source": [
    "C = int(input())\n",
    "\n",
    "for c in range(C) :\n",
    "    N = list(map(int, input().split()))\n",
    "    avg = sum(N[1 : ]) / N[0]\n",
    "    up_avg = [N[n] for n in range(1, len(N)) if N[n] > avg]\n",
    "    \n",
    "    print(\"{:.3f}%\".format(len(up_avg) / N[0] * 100))"
   ]
  }
 ],
 "metadata": {
  "kernelspec": {
   "display_name": "Python 3",
   "language": "python",
   "name": "python3"
  },
  "language_info": {
   "codemirror_mode": {
    "name": "ipython",
    "version": 3
   },
   "file_extension": ".py",
   "mimetype": "text/x-python",
   "name": "python",
   "nbconvert_exporter": "python",
   "pygments_lexer": "ipython3",
   "version": "3.8.8"
  }
 },
 "nbformat": 4,
 "nbformat_minor": 5
}
