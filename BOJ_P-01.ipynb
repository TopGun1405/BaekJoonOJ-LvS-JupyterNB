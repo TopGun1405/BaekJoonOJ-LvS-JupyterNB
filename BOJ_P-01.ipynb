{
 "cells": [
  {
   "cell_type": "markdown",
   "id": "d7fae57c",
   "metadata": {},
   "source": [
    "#### 1. Hello World ( N-2557 )"
   ]
  },
  {
   "cell_type": "markdown",
   "id": "53eb2a77",
   "metadata": {},
   "source": [
    "Hello World!를 출력하시오."
   ]
  },
  {
   "cell_type": "code",
   "execution_count": 1,
   "id": "f35fa5a5",
   "metadata": {},
   "outputs": [
    {
     "name": "stdout",
     "output_type": "stream",
     "text": [
      "Hello World!\n"
     ]
    }
   ],
   "source": [
    "print(\"Hello World!\")"
   ]
  },
  {
   "cell_type": "markdown",
   "id": "f5b1d862",
   "metadata": {},
   "source": [
    "#### 2. We love kriii ( N-10718 )"
   ]
  },
  {
   "cell_type": "markdown",
   "id": "4302e927",
   "metadata": {},
   "source": [
    "ACM-ICPC 인터넷 예선, Regional, 그리고 World Finals까지 이미 2회씩 진출해버린 kriii는 미련을 버리지 못하고 왠지 모르게 올해에도 파주 World Finals 준비 캠프에 참여했다.\n",
    "\n",
    "대회를 뜰 줄 모르는 지박령 kriii를 위해서 격려의 문구를 출력해주자."
   ]
  },
  {
   "cell_type": "code",
   "execution_count": 2,
   "id": "2cde33b8",
   "metadata": {},
   "outputs": [
    {
     "name": "stdout",
     "output_type": "stream",
     "text": [
      "강한친구 대한육군\n",
      "강한친구 대한육군\n"
     ]
    }
   ],
   "source": [
    "print(\"강한친구 대한육군\")\n",
    "print(\"강한친구 대한육군\")"
   ]
  },
  {
   "cell_type": "markdown",
   "id": "4d0bb6fe",
   "metadata": {},
   "source": [
    "#### 3. 고양이 ( N-10171 )"
   ]
  },
  {
   "cell_type": "markdown",
   "id": "47bc6ab1",
   "metadata": {},
   "source": [
    "아래 예제와 같이 고양이를 출력하시오."
   ]
  },
  {
   "cell_type": "code",
   "execution_count": 3,
   "id": "db7a9af6",
   "metadata": {},
   "outputs": [
    {
     "name": "stdout",
     "output_type": "stream",
     "text": [
      "\\    /\\\n",
      " )  ( ')\n",
      "(  /  )\n",
      " \\(__)|\n"
     ]
    }
   ],
   "source": [
    "print(\"\\    /\\\\\")\n",
    "print(\" )  ( ')\")\n",
    "print(\"(  /  )\")\n",
    "print(\" \\(__)|\")"
   ]
  },
  {
   "cell_type": "markdown",
   "id": "edd2e460",
   "metadata": {},
   "source": [
    "#### 4. 개 ( N-10172 )"
   ]
  },
  {
   "cell_type": "markdown",
   "id": "4304bb0b",
   "metadata": {},
   "source": [
    "아래 예제와 같이 개를 출력하시오."
   ]
  },
  {
   "cell_type": "code",
   "execution_count": 4,
   "id": "6d673819",
   "metadata": {},
   "outputs": [
    {
     "name": "stdout",
     "output_type": "stream",
     "text": [
      "|\\_/|\n",
      "|q p|   /}\n",
      "( 0 )\"\"\"\\\n",
      "|\"^\"`    |\n",
      "||_/=\\\\__|\n"
     ]
    }
   ],
   "source": [
    "print('|\\_/|')\n",
    "print('|q p|   /}')\n",
    "print('( 0 )\"\"\"\\\\')\n",
    "print('|\"^\"`    |')\n",
    "print('||_/=\\\\\\\\__|')"
   ]
  },
  {
   "cell_type": "markdown",
   "id": "4894a246",
   "metadata": {},
   "source": [
    "#### 5. A+B ( N-1000 )"
   ]
  },
  {
   "cell_type": "markdown",
   "id": "b3068354",
   "metadata": {},
   "source": [
    "두 정수 A와 B를 입력받은 다음, A+B를 출력하는 프로그램을 작성하시오."
   ]
  },
  {
   "cell_type": "markdown",
   "id": "d49ab960",
   "metadata": {},
   "source": [
    "- 입력\n",
    "  - 첫째 줄에 A와 B가 주어진다. (0 < A, B < 10)"
   ]
  },
  {
   "cell_type": "code",
   "execution_count": 5,
   "id": "503dff13",
   "metadata": {},
   "outputs": [
    {
     "name": "stdout",
     "output_type": "stream",
     "text": [
      "1 2\n",
      "3\n"
     ]
    }
   ],
   "source": [
    "A, B = input().split()\n",
    "A, B = int(A), int(B)\n",
    "\n",
    "print(A+B)"
   ]
  },
  {
   "cell_type": "code",
   "execution_count": 6,
   "id": "3aa4f8cb",
   "metadata": {},
   "outputs": [
    {
     "name": "stdout",
     "output_type": "stream",
     "text": [
      "1 2\n",
      "3\n"
     ]
    }
   ],
   "source": [
    "A, B = map(int, input().split())\n",
    "\n",
    "print(A+B)"
   ]
  },
  {
   "cell_type": "markdown",
   "id": "da1c047d",
   "metadata": {},
   "source": [
    "#### 6. A-B ( N-1001 )"
   ]
  },
  {
   "cell_type": "markdown",
   "id": "f853d902",
   "metadata": {},
   "source": [
    "두 정수 A와 B를 입력받은 다음, A-B를 출력하는 프로그램을 작성하시오."
   ]
  },
  {
   "cell_type": "markdown",
   "id": "e601997d",
   "metadata": {},
   "source": [
    "- 입력\n",
    "  - 첫째 줄에 A와 B가 주어진다. (0 < A, B < 10)"
   ]
  },
  {
   "cell_type": "code",
   "execution_count": 7,
   "id": "6196577a",
   "metadata": {},
   "outputs": [
    {
     "name": "stdout",
     "output_type": "stream",
     "text": [
      "3 2\n",
      "1\n"
     ]
    }
   ],
   "source": [
    "A, B = map(int ,input().split())\n",
    "\n",
    "print(A-B)"
   ]
  },
  {
   "cell_type": "markdown",
   "id": "8f9422d9",
   "metadata": {},
   "source": [
    "#### 7. A×B ( N-10998 )"
   ]
  },
  {
   "cell_type": "markdown",
   "id": "dc7e7d0a",
   "metadata": {},
   "source": [
    "두 정수 A와 B를 입력받은 다음, A×B를 출력하는 프로그램을 작성하시오."
   ]
  },
  {
   "cell_type": "markdown",
   "id": "2aa54ff4",
   "metadata": {},
   "source": [
    "- 입력\n",
    "  - 첫째 줄에 A와 B가 주어진다. (0 < A, B < 10)"
   ]
  },
  {
   "cell_type": "code",
   "execution_count": 8,
   "id": "0d7c5440",
   "metadata": {},
   "outputs": [
    {
     "name": "stdout",
     "output_type": "stream",
     "text": [
      "3 4\n",
      "12\n"
     ]
    }
   ],
   "source": [
    "A, B = map(int, input().split())\n",
    "\n",
    "print(A*B)"
   ]
  },
  {
   "cell_type": "markdown",
   "id": "24afd627",
   "metadata": {},
   "source": [
    "#### 8. A/B ( N-1008 )"
   ]
  },
  {
   "cell_type": "markdown",
   "id": "5bfefa11",
   "metadata": {},
   "source": [
    "두 정수 A와 B를 입력받은 다음,A/B를 출력하는 프로그램을 작성하시오."
   ]
  },
  {
   "cell_type": "markdown",
   "id": "d2f14c84",
   "metadata": {},
   "source": [
    "- 입력\n",
    "  - 첫째 줄에 A와 B가 주어진다. (0 < A, B < 10)"
   ]
  },
  {
   "cell_type": "code",
   "execution_count": 9,
   "id": "75e7c25b",
   "metadata": {},
   "outputs": [
    {
     "name": "stdout",
     "output_type": "stream",
     "text": [
      "1 3\n",
      "0.3333333333333333\n"
     ]
    }
   ],
   "source": [
    "A, B = map(int, input().split())\n",
    "\n",
    "print(A/B)"
   ]
  },
  {
   "cell_type": "markdown",
   "id": "2e9da895",
   "metadata": {},
   "source": [
    "#### 9. 사칙연산 ( N-10869 )"
   ]
  },
  {
   "cell_type": "markdown",
   "id": "2d8b242d",
   "metadata": {},
   "source": [
    "두 자연수 A와 B가 주어진다. 이때, A+B, A-B, A\\*B, A/B(몫), A%B(나머지)를 출력하는 프로그램을 작성하시오."
   ]
  },
  {
   "cell_type": "markdown",
   "id": "bfb75a00",
   "metadata": {},
   "source": [
    "- 입력\n",
    "  - 두 자연수 A와 B가 주어진다. (1 ≤ A, B ≤ 10,000)"
   ]
  },
  {
   "cell_type": "code",
   "execution_count": 10,
   "id": "38517ff1",
   "metadata": {},
   "outputs": [
    {
     "name": "stdout",
     "output_type": "stream",
     "text": [
      "7 3\n",
      "10\n",
      "4\n",
      "21\n",
      "2\n",
      "1\n"
     ]
    }
   ],
   "source": [
    "A, B = map(int, input().split())\n",
    "\n",
    "print(A+B)\n",
    "print(A-B)\n",
    "print(A*B)\n",
    "print(A//B)\n",
    "print(A%B)"
   ]
  },
  {
   "cell_type": "markdown",
   "id": "b61b9996",
   "metadata": {},
   "source": [
    "#### 10. ??! ( N-10926 )"
   ]
  },
  {
   "cell_type": "markdown",
   "id": "7576b4be",
   "metadata": {},
   "source": [
    "준하는 사이트에 회원가입을 하다가 joonas라는 아이디가 이미 존재하는 것을 보고 놀랐다. 준하는 놀람을 ??!로 표현한다. 준하가 가입하려고 하는 사이트에 이미 존재하는 아이디가 주어졌을 때, 놀람을 표현하는 프로그램을 작성하시오."
   ]
  },
  {
   "cell_type": "markdown",
   "id": "e7714619",
   "metadata": {},
   "source": [
    "- 입력\n",
    "  - 첫째 줄에 준하가 가입하려고 하는 사이트에 이미 존재하는 아이디가 주어진다. 아이디는 알파벳 소문자로만 이루어져 있으며, 길이는 50자를 넘지 않는다."
   ]
  },
  {
   "cell_type": "code",
   "execution_count": 11,
   "id": "5e2a1a78",
   "metadata": {},
   "outputs": [
    {
     "name": "stdout",
     "output_type": "stream",
     "text": [
      "joonas\n",
      "joonas??!\n"
     ]
    }
   ],
   "source": [
    "ID = input()\n",
    "\n",
    "print(ID+\"??!\")"
   ]
  },
  {
   "cell_type": "markdown",
   "id": "40d1d653",
   "metadata": {},
   "source": [
    "#### 11. 1998년생인 내가 태국에서는 2541년생?! ( N-18108 )"
   ]
  },
  {
   "cell_type": "markdown",
   "id": "12369c76",
   "metadata": {},
   "source": [
    "ICPC Bangkok Regional에 참가하기 위해 수완나품 국제공항에 막 도착한 팀 레드시프트 일행은 눈을 믿을 수 없었다. 공항의 대형 스크린에 올해가 2562년이라고 적혀 있던 것이었다.\n",
    "\n",
    "불교 국가인 태국은 불별기원 (佛滅紀元), 즉 석가모니가 열반한 해를 기준으로 연도를 세는 불기를 사용한다. 반면, 우리나라는 서기 연도를 사용하고 있다. 불기 연도가 주어질 때 이를 서기 연도로 바꿔 주는 프로그램을 작성하시오."
   ]
  },
  {
   "cell_type": "markdown",
   "id": "8a6dde36",
   "metadata": {},
   "source": [
    "- 입력\n",
    "  - 서기 연도를 알아보고 싶은 불기 연도 y가 주어진다. (1000 ≤ y ≤ 3000)"
   ]
  },
  {
   "cell_type": "code",
   "execution_count": 12,
   "id": "9388080c",
   "metadata": {},
   "outputs": [
    {
     "name": "stdout",
     "output_type": "stream",
     "text": [
      "2541\n",
      "1998\n"
     ]
    }
   ],
   "source": [
    "years = int(input())\n",
    "\n",
    "print(years-543)"
   ]
  },
  {
   "cell_type": "markdown",
   "id": "6f93154a",
   "metadata": {},
   "source": [
    "#### 12. 나머지 ( N-10430 )"
   ]
  },
  {
   "cell_type": "markdown",
   "id": "70a48785",
   "metadata": {},
   "source": [
    "(A+B)%C는 ((A%C) + (B%C))%C 와 같을까?\n",
    "\n",
    "(A×B)%C는 ((A%C) × (B%C))%C 와 같을까?\n",
    "\n",
    "세 수 A, B, C가 주어졌을 때, 위의 네 가지 값을 구하는 프로그램을 작성하시오."
   ]
  },
  {
   "cell_type": "markdown",
   "id": "10f1e3c4",
   "metadata": {},
   "source": [
    "- 입력\n",
    "  - 첫째 줄에 A, B, C가 순서대로 주어진다. (2 ≤ A, B, C ≤ 10000)"
   ]
  },
  {
   "cell_type": "code",
   "execution_count": 13,
   "id": "fee3ecf1",
   "metadata": {},
   "outputs": [
    {
     "name": "stdout",
     "output_type": "stream",
     "text": [
      "5 8 4\n",
      "1\n",
      "1\n",
      "0\n",
      "0\n"
     ]
    }
   ],
   "source": [
    "A, B, C = map(int, input().split())\n",
    "\n",
    "print((A+B)%C)\n",
    "print(((A%C) + (B%C))%C)\n",
    "print((A*B)%C)\n",
    "print(((A%C) * (B%C))%C)"
   ]
  },
  {
   "cell_type": "markdown",
   "id": "b6d49059",
   "metadata": {},
   "source": [
    "#### 13. 곱셈 ( N-2588 )"
   ]
  },
  {
   "cell_type": "markdown",
   "id": "3a9fca5c",
   "metadata": {},
   "source": [
    "(세 자리 수) × (세 자리 수)는 다음과 같은 과정을 통하여 이루어진다.\n",
    "![](./p1-13.png)\n",
    "(1)과 (2)위치에 들어갈 세 자리 자연수가 주어질 때 (3), (4), (5), (6)위치에 들어갈 값을 구하는 프로그램을 작성하시오."
   ]
  },
  {
   "cell_type": "markdown",
   "id": "d2f374c3",
   "metadata": {},
   "source": [
    "- 입력\n",
    "  - 첫째 줄에 (1)의 위치에 들어갈 세 자리 자연수가, 둘째 줄에 (2)의 위치에 들어갈 세자리 자연수가 주어진다."
   ]
  },
  {
   "cell_type": "code",
   "execution_count": 14,
   "id": "6af02a3f",
   "metadata": {},
   "outputs": [
    {
     "name": "stdout",
     "output_type": "stream",
     "text": [
      "472\n",
      "385\n",
      "2360\n",
      "3776\n",
      "1416\n",
      "181720\n"
     ]
    }
   ],
   "source": [
    "A = int(input())\n",
    "B, C, D = map(int, input().strip())\n",
    "\n",
    "print(A*D)\n",
    "print(A*C)\n",
    "print(A*B)\n",
    "print(A*B*100 + A*C*10 + A*D)"
   ]
  }
 ],
 "metadata": {
  "kernelspec": {
   "display_name": "Python 3",
   "language": "python",
   "name": "python3"
  },
  "language_info": {
   "codemirror_mode": {
    "name": "ipython",
    "version": 3
   },
   "file_extension": ".py",
   "mimetype": "text/x-python",
   "name": "python",
   "nbconvert_exporter": "python",
   "pygments_lexer": "ipython3",
   "version": "3.8.8"
  }
 },
 "nbformat": 4,
 "nbformat_minor": 5
}
