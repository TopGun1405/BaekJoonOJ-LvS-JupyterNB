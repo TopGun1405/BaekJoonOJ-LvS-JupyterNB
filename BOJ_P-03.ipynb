{
 "cells": [
  {
   "cell_type": "markdown",
   "id": "728c36f8",
   "metadata": {},
   "source": [
    "#### 1. 구구단 ( N-2739 )"
   ]
  },
  {
   "cell_type": "markdown",
   "id": "8989c83a",
   "metadata": {},
   "source": [
    "N을 입력받은 뒤, 구구단 N단을 출력하는 프로그램을 작성하시오. 출력 형식에 맞춰서 출력하면 된다."
   ]
  },
  {
   "cell_type": "markdown",
   "id": "d299502d",
   "metadata": {},
   "source": [
    "- 입력\n",
    "  - 첫째 줄에 N이 주어진다. N이 1보다 크거나 같, 9보다 작거나 같다."
   ]
  },
  {
   "cell_type": "code",
   "execution_count": 1,
   "id": "33fa4d48",
   "metadata": {},
   "outputs": [
    {
     "name": "stdout",
     "output_type": "stream",
     "text": [
      "2\n",
      "2 * 1 = 2\n",
      "2 * 2 = 4\n",
      "2 * 3 = 6\n",
      "2 * 4 = 8\n",
      "2 * 5 = 10\n",
      "2 * 6 = 12\n",
      "2 * 7 = 14\n",
      "2 * 8 = 16\n",
      "2 * 9 = 18\n"
     ]
    }
   ],
   "source": [
    "N = int(input())\n",
    "\n",
    "for i in range(1, 10) :\n",
    "    print(\"{} * {} = {}\".format(N, i, N * i))"
   ]
  },
  {
   "cell_type": "markdown",
   "id": "91bb40bb",
   "metadata": {},
   "source": [
    "#### 2. A+B - 3 ( N-10950 )"
   ]
  },
  {
   "cell_type": "markdown",
   "id": "07a1f38a",
   "metadata": {},
   "source": [
    "두 정수 A와 B를 입력받은 다음, A+B를 출력하는 프로그램을 작성하시오."
   ]
  },
  {
   "cell_type": "markdown",
   "id": "0ebcb23b",
   "metadata": {},
   "source": [
    "- 입력\n",
    "  - 첫째 줄에 테스트 케이스의 개수 T가 주어진다.\n",
    "  - 각 테스트 케이스는 한 줄로 이루어져 있으며, 각 줄에 A와 B가 주어진다. (0 < A, B < 10)"
   ]
  },
  {
   "cell_type": "code",
   "execution_count": 2,
   "id": "35478101",
   "metadata": {},
   "outputs": [
    {
     "name": "stdout",
     "output_type": "stream",
     "text": [
      "5\n",
      "1 1\n",
      "2\n",
      "2 3\n",
      "5\n",
      "3 4\n",
      "7\n",
      "9 8\n",
      "17\n",
      "5 2\n",
      "7\n"
     ]
    }
   ],
   "source": [
    "T = int(input())\n",
    "\n",
    "for i in range(T) :\n",
    "    A, B = map(int, input().split())\n",
    "    \n",
    "    print(A + B)"
   ]
  },
  {
   "cell_type": "markdown",
   "id": "9adeb7e6",
   "metadata": {},
   "source": [
    "#### 3. 합 ( N-8393 )"
   ]
  },
  {
   "cell_type": "markdown",
   "id": "30467200",
   "metadata": {},
   "source": [
    "n이 주어졌을 때, 1부터 n까지 합을 구하는 프로그램을 작성하시오."
   ]
  },
  {
   "cell_type": "markdown",
   "id": "915c0369",
   "metadata": {},
   "source": [
    "- 입력\n",
    "  - 첫째 줄에 n (1 ≤ n ≤ 10,000)이 주어진다."
   ]
  },
  {
   "cell_type": "code",
   "execution_count": 3,
   "id": "64487704",
   "metadata": {},
   "outputs": [
    {
     "name": "stdout",
     "output_type": "stream",
     "text": [
      "3\n",
      "6\n"
     ]
    }
   ],
   "source": [
    "n = int(input())\n",
    "\n",
    "n_list = [i for i in range(1, n + 1)]\n",
    "print(sum(n_list))"
   ]
  },
  {
   "cell_type": "markdown",
   "id": "d4d1ce27",
   "metadata": {},
   "source": [
    "#### 4. 빠른 A+B ( N-15552 )"
   ]
  },
  {
   "cell_type": "markdown",
   "id": "a5cfde62",
   "metadata": {},
   "source": [
    "본격적으로 for문 문제를 풀기 전에 주의해야 할 점이 있다. 입출력 방식이 느리면 여러 줄을 입력받거나 출력할 때 시간초과가 날 수 있다는 점이다.  \n",
    "  \n",
    "C++을 사용하고 있고 cin/cout을 사용하고자 한다면, cin.tie(NULL)과 sync_with_stdio(false)를 둘 다 적용해 주고, endl 대신 개행문자(\\n)를 쓰자. 단, 이렇게 하면 더 이상 scanf/printf/puts/getchar/putchar 등 C의 입출력 방식을 사용하면 안 된다.  \n",
    "  \n",
    "Java를 사용하고 있다면, Scanner와 System.out.println 대신 BufferedReader와 BufferedWriter를 사용할 수 있다. BufferedWriter.flush는 맨 마지막에 한 번만 하면 된다.  \n",
    "  \n",
    "Python을 사용하고 있다면, input 대신 sys.stdin.readline을 사용할 수 있다. 단, 이때는 맨 끝의 개행문자까지 같이 입력받기 때문에 문자열을 저장하고 싶을 경우 .rstrip()을 추가로 해 주는 것이 좋다.  \n",
    "  \n",
    "또한 입력과 출력 스트림은 별개이므로, 테스트케이스를 전부 입력받아서 저장한 뒤 전부 출력할 필요는 없다. 테스트케이스를 하나 받은 뒤 하나 출력해도 된다."
   ]
  },
  {
   "cell_type": "markdown",
   "id": "f03e5af0",
   "metadata": {},
   "source": [
    "- 입력\n",
    "  - 첫 줄에 테스트케이스의 개수 T가 주어진다. T는 최대 1,000,000이다. 다음 T줄에는 각각 두 정수 A와 B가 주어진다. A와 B는 1 이상, 1,000 이하이다."
   ]
  },
  {
   "cell_type": "code",
   "execution_count": null,
   "id": "42fb5a6d",
   "metadata": {},
   "outputs": [],
   "source": [
    "import sys\n",
    "\n",
    "T = int(input())\n",
    "\n",
    "for t in range(T) :\n",
    "    A, B = map(int, sys.stdin.readline().split())\n",
    "    \n",
    "    print(A + B)"
   ]
  },
  {
   "cell_type": "markdown",
   "id": "4a6768e7",
   "metadata": {},
   "source": [
    "#### 5. N 찍기 ( N-2751 )"
   ]
  },
  {
   "cell_type": "markdown",
   "id": "c72b97c3",
   "metadata": {},
   "source": [
    "자연수 N이 주어졌을 때, 1부터 N까지 한 줄에 하나씩 출력하는 프로그램을 작성하시오."
   ]
  },
  {
   "cell_type": "markdown",
   "id": "ff0fc179",
   "metadata": {},
   "source": [
    "- 입력\n",
    "  - 첫째 줄에 100,000보다 작거나 같은 자연수 N이 주어진다."
   ]
  },
  {
   "cell_type": "code",
   "execution_count": 4,
   "id": "76411d10",
   "metadata": {},
   "outputs": [
    {
     "name": "stdout",
     "output_type": "stream",
     "text": [
      "5\n",
      "1\n",
      "2\n",
      "3\n",
      "4\n",
      "5\n"
     ]
    }
   ],
   "source": [
    "N = int(input())\n",
    "\n",
    "for n in range(1, N + 1) :\n",
    "    print(n)"
   ]
  },
  {
   "cell_type": "markdown",
   "id": "0f023d71",
   "metadata": {},
   "source": [
    "#### 6. 기찍 N ( N-2742 )"
   ]
  },
  {
   "cell_type": "markdown",
   "id": "1f90f161",
   "metadata": {},
   "source": [
    "자연수 N이 주어졌을 때, N부터 1까지 한 줄에 하나씩 출력하는 프로그램을 작성하시오."
   ]
  },
  {
   "cell_type": "markdown",
   "id": "a2f18976",
   "metadata": {},
   "source": [
    "- 입력\n",
    "  - 첫째 줄에 100,000보다 작거나 같은 자연수 N이 주어진다."
   ]
  },
  {
   "cell_type": "code",
   "execution_count": 5,
   "id": "777d848c",
   "metadata": {},
   "outputs": [
    {
     "name": "stdout",
     "output_type": "stream",
     "text": [
      "5\n",
      "5\n",
      "4\n",
      "3\n",
      "2\n",
      "1\n"
     ]
    }
   ],
   "source": [
    "N = int(input())\n",
    "\n",
    "for n in range(N, 0, -1) :\n",
    "    print(n)"
   ]
  },
  {
   "cell_type": "markdown",
   "id": "3a398d13",
   "metadata": {},
   "source": [
    "#### 7. A+B - 7 ( N-11021 )"
   ]
  },
  {
   "cell_type": "markdown",
   "id": "24c2b16a",
   "metadata": {},
   "source": [
    "두 정수 A와 B를 입력받은 다음, A+B를 출력하는 프로그램을 작성하시오."
   ]
  },
  {
   "cell_type": "markdown",
   "id": "b6feecf9",
   "metadata": {},
   "source": [
    "- 입력\n",
    "  - 첫째 줄에 테스트 케이스의 개수 T가 주어진다.\n",
    "  - 각 테스트 케이스는 한 줄로 이루어져 있으며, 각 줄에 A와 B가 주어진다. (0 < A, B < 10)"
   ]
  },
  {
   "cell_type": "code",
   "execution_count": 6,
   "id": "b0858e1b",
   "metadata": {},
   "outputs": [
    {
     "name": "stdout",
     "output_type": "stream",
     "text": [
      "5\n",
      "1 1\n",
      "Case #1: 2\n",
      "2 3\n",
      "Case #2: 5\n",
      "3 4\n",
      "Case #3: 7\n",
      "9 8\n",
      "Case #4: 17\n",
      "5 2\n",
      "Case #5: 7\n"
     ]
    }
   ],
   "source": [
    "T = int(input())\n",
    "\n",
    "for t in range(T) :\n",
    "    A, B = map(int, input().split())\n",
    "    \n",
    "    print(\"Case #{}: {}\".format(t + 1, A + B))"
   ]
  },
  {
   "cell_type": "markdown",
   "id": "9af92f6b",
   "metadata": {},
   "source": [
    "#### 8. A+B - 8 ( N-11022 )"
   ]
  },
  {
   "cell_type": "markdown",
   "id": "4138804e",
   "metadata": {},
   "source": [
    "두 정수 A와 B를 입력받은 다음, A+B를 출력하는 프로그램을 작성하시오."
   ]
  },
  {
   "cell_type": "markdown",
   "id": "7fb90617",
   "metadata": {},
   "source": [
    "- 입력\n",
    "  - 첫째 줄에 테스트 케이스의 개수 T가 주어진다.\n",
    "  - 각 테스트 케이스는 한 줄로 이루어져 있으며, 각 줄에 A와 B가 주어진다. (0 < A, B < 10)"
   ]
  },
  {
   "cell_type": "code",
   "execution_count": 7,
   "id": "36d34410",
   "metadata": {},
   "outputs": [
    {
     "name": "stdout",
     "output_type": "stream",
     "text": [
      "5\n",
      "1 1\n",
      "Case #1: 1 + 1 = 2\n",
      "2 3\n",
      "Case #2: 2 + 3 = 5\n",
      "3 4\n",
      "Case #3: 3 + 4 = 7\n",
      "9 8\n",
      "Case #4: 9 + 8 = 17\n",
      "5 2\n",
      "Case #5: 5 + 2 = 7\n"
     ]
    }
   ],
   "source": [
    "T = int(input())\n",
    "\n",
    "for t in range(T) :\n",
    "    A, B = map(int, input().split())\n",
    "    \n",
    "    print(\"Case #{}: {} + {} = {}\".format(t + 1, A, B, A + B))"
   ]
  },
  {
   "cell_type": "markdown",
   "id": "086b6e23",
   "metadata": {},
   "source": [
    "#### 9. 별 찍기 - 1 ( N-2438 )"
   ]
  },
  {
   "cell_type": "markdown",
   "id": "91d47125",
   "metadata": {},
   "source": [
    "첫째 줄에는 별 1개, 둘째 줄에는 별 2개, N번째 줄에는 별 N개를 찍는 문제"
   ]
  },
  {
   "cell_type": "markdown",
   "id": "cabb434f",
   "metadata": {},
   "source": [
    "- 입력\n",
    "  - 첫째 줄에 N(1 ≤ N ≤ 100)이 주어진다."
   ]
  },
  {
   "cell_type": "code",
   "execution_count": 8,
   "id": "30b74ca7",
   "metadata": {},
   "outputs": [
    {
     "name": "stdout",
     "output_type": "stream",
     "text": [
      "5\n",
      "*\n",
      "**\n",
      "***\n",
      "****\n",
      "*****\n"
     ]
    }
   ],
   "source": [
    "N = int(input())\n",
    "\n",
    "# for n in range(N) :\n",
    "#     for m in range(n + 1) :\n",
    "#         print(\"*\", end = \"\")\n",
    "#     print()\n",
    "    \n",
    "for n in range(1, N + 1) :\n",
    "    print(\"*\" * n)"
   ]
  },
  {
   "cell_type": "markdown",
   "id": "a19b2206",
   "metadata": {},
   "source": [
    "#### 10. 별 찍기 - 2 ( N-2439 )"
   ]
  },
  {
   "cell_type": "markdown",
   "id": "cffb413f",
   "metadata": {},
   "source": [
    "첫째 줄에는 별 1개, 둘째 줄에는 별 2개, N번째 줄에는 별 N개를 찍는 문제  \n",
    "하지만, 오른쪽을 기준으로 정렬한 별을 출력하시오."
   ]
  },
  {
   "cell_type": "markdown",
   "id": "2cf21afb",
   "metadata": {},
   "source": [
    "- 입력\n",
    "  - 첫째 줄에 N(1 ≤ N ≤ 100)이 주어진다."
   ]
  },
  {
   "cell_type": "code",
   "execution_count": 9,
   "id": "5341bf02",
   "metadata": {},
   "outputs": [
    {
     "name": "stdout",
     "output_type": "stream",
     "text": [
      "5\n",
      "    *\n",
      "   **\n",
      "  ***\n",
      " ****\n",
      "*****\n"
     ]
    }
   ],
   "source": [
    "N = int(input())\n",
    "    \n",
    "for n in range(1, N + 1) :\n",
    "    print(\" \" * (N - n), end = \"\")\n",
    "    print(\"*\" * n)"
   ]
  },
  {
   "cell_type": "markdown",
   "id": "cc38998a",
   "metadata": {},
   "source": [
    "#### 11. X보다 작은 수 ( N-10871 )"
   ]
  },
  {
   "cell_type": "markdown",
   "id": "11be6a26",
   "metadata": {},
   "source": [
    "정수 N개로 이루어진 수열 A와 정수 X가 주어진다. 이때, A에서 X보다 작은 수를 모두 출력하는 프로그램을 작성하시오."
   ]
  },
  {
   "cell_type": "markdown",
   "id": "fd2ccff1",
   "metadata": {},
   "source": [
    "- 입력\n",
    "  - 첫째 줄에 N과 X가 주어진다. (1 ≤ N, X ≤ 10,000)\n",
    "  - 둘째 줄에 수열 A를 이루는 정수 N개가 주어진다. 주어지는 정수는 모두 1보다 크거나 같고, 10,000보다 작거나 같은 정수이다."
   ]
  },
  {
   "cell_type": "code",
   "execution_count": 10,
   "id": "5ace2736",
   "metadata": {},
   "outputs": [
    {
     "name": "stdout",
     "output_type": "stream",
     "text": [
      "10 5\n",
      "1 10 4 9 2 3 8 5 7 6\n",
      "1 4 2 3 "
     ]
    }
   ],
   "source": [
    "N, X = map(int, input().split())\n",
    "A = list(map(int, input().split()))\n",
    "\n",
    "for n in range(N) :\n",
    "    if A[n] < X :\n",
    "        print(A[n], end = \" \")"
   ]
  },
  {
   "cell_type": "markdown",
   "id": "c01ae553",
   "metadata": {},
   "source": [
    "#### 12. A+B - 5 ( N- 10952 )"
   ]
  },
  {
   "cell_type": "markdown",
   "id": "78b5f197",
   "metadata": {},
   "source": [
    "두 정수 A와 B를 입력받은 다음, A + B를 출력하는 프로그램을 작성하시오."
   ]
  },
  {
   "cell_type": "markdown",
   "id": "c8d14481",
   "metadata": {},
   "source": [
    "- 입력\n",
    "  - 입력은 여러 개의 테스트 케이스로 이루어져 있다.\n",
    "  - 각 테스트 케이스는 한 줄로 이루어져 있으며, 각 줄에 A와 B가 주어진다. (0 < A, B < 10)\n",
    "  - 입력의 마지막에는 0 두 개가 들어온다."
   ]
  },
  {
   "cell_type": "code",
   "execution_count": 1,
   "id": "ee78f23a",
   "metadata": {},
   "outputs": [
    {
     "name": "stdout",
     "output_type": "stream",
     "text": [
      "1 1\n",
      "2\n",
      "2 3\n",
      "5\n",
      "3 4\n",
      "7\n",
      "9 8\n",
      "17\n",
      "5 2\n",
      "7\n",
      "0 0\n"
     ]
    }
   ],
   "source": [
    "while True :\n",
    "    A, B = map(int, input().split())\n",
    "    \n",
    "    if A + B == 0 : break\n",
    "    print(A + B)"
   ]
  },
  {
   "cell_type": "markdown",
   "id": "ccc002f4",
   "metadata": {},
   "source": [
    "#### 13. A+B - 4 ( N-10951 )"
   ]
  },
  {
   "cell_type": "markdown",
   "id": "d59ffea6",
   "metadata": {},
   "source": [
    "두 정수 A와 B를 입력받은 다음, A + B를 출력하는 프로그램을 작성하시오."
   ]
  },
  {
   "cell_type": "markdown",
   "id": "2d32cc8b",
   "metadata": {},
   "source": [
    "- 입력\n",
    "  - 입력은 여러 개의 테스트 케이스로 이루어져 있다.\n",
    "  - 각 테스트 케이스는 한 줄로 이루어져 있으며, 각 줄에 A와 B가 주어진다. (0 < A, B < 10)"
   ]
  },
  {
   "cell_type": "code",
   "execution_count": 2,
   "id": "4c5562e7",
   "metadata": {},
   "outputs": [
    {
     "name": "stdout",
     "output_type": "stream",
     "text": [
      "1 1\n",
      "2\n",
      "2 3\n",
      "5\n",
      "3 4\n",
      "7\n",
      "9 8\n",
      "17\n",
      "5 2\n",
      "7\n",
      "\n"
     ]
    }
   ],
   "source": [
    "while True :\n",
    "    try :\n",
    "        A, B = map(int, input().split())\n",
    "        \n",
    "        print(A + B)\n",
    "    except :\n",
    "        break"
   ]
  },
  {
   "cell_type": "markdown",
   "id": "699ee16c",
   "metadata": {},
   "source": [
    "#### 14. 더하기 사이클 ( N-1110 )"
   ]
  },
  {
   "cell_type": "markdown",
   "id": "d01facd0",
   "metadata": {},
   "source": [
    "0보다 크거나 같고, 99보다 작거나 같은 정수가 주어질 때 다음과 같은 연산을 할 수 있다. 먼저 주어진 수가 10보다 작다면 앞에 0을 붙여 두 자리 수로 만들고, 각 자리의 숫자를 더한다. 그 다음, 주어진 수의 가장 오른쪽 자리 수와 앞에서 구한 합의 가장 오른쪽 자리 수를 이어 붙이면 새로운 수를 만들 수 있다. 다음 예를 보자.  \n",
    "  \n",
    "26부터 시작한다. 2+6 = 8이다. 새로운 수는 68이다. 6+8 = 14이다. 새로운 수는 84이다. 8+4 = 12이다. 새로운 수는 42이다. 4+2 = 6이다. 새로운 수는 26이다.  \n",
    "  \n",
    "위의 예는 4번만에 원래 수로 돌아올 수 있다. 따라서 26의 사이클의 길이는 4이다.  \n",
    "  \n",
    "N이 주어졌을 때, N의 사이클의 길이를 구하는 프로그램을 작성하시오."
   ]
  },
  {
   "cell_type": "markdown",
   "id": "ebe610ea",
   "metadata": {},
   "source": [
    "- 입력\n",
    "  - 첫째 줄에 N이 주어진다. N은 0보다 크거나 같고, 99보다 작거나 같은 정수이다."
   ]
  },
  {
   "cell_type": "code",
   "execution_count": 3,
   "id": "4608d6da",
   "metadata": {},
   "outputs": [
    {
     "name": "stdout",
     "output_type": "stream",
     "text": [
      "26\n",
      "4\n"
     ]
    }
   ],
   "source": [
    "N = int(input())\n",
    "num, t = N, 0\n",
    "\n",
    "while True :\n",
    "    num = (num % 10) * 10 + ((num // 10 + num % 10) % 10)\n",
    "    t += 1\n",
    "    if num == N : break\n",
    "\n",
    "print(t)"
   ]
  }
 ],
 "metadata": {
  "kernelspec": {
   "display_name": "Python 3",
   "language": "python",
   "name": "python3"
  },
  "language_info": {
   "codemirror_mode": {
    "name": "ipython",
    "version": 3
   },
   "file_extension": ".py",
   "mimetype": "text/x-python",
   "name": "python",
   "nbconvert_exporter": "python",
   "pygments_lexer": "ipython3",
   "version": "3.8.8"
  }
 },
 "nbformat": 4,
 "nbformat_minor": 5
}
