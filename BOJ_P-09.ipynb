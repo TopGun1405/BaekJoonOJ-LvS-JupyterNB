{
 "cells": [
  {
   "cell_type": "markdown",
   "id": "ee4672f7",
   "metadata": {},
   "source": [
    "#### 1. 팩토리얼 ( N-10872 )"
   ]
  },
  {
   "cell_type": "markdown",
   "id": "fdb9eafd",
   "metadata": {},
   "source": [
    "0보다 크거나 같은 정수 N이 주어진다. 이때, N!을 출력하는 프로그램을 작성하시오."
   ]
  },
  {
   "cell_type": "markdown",
   "id": "e15be2cd",
   "metadata": {},
   "source": [
    "- 입력\n",
    "  - 첫째 줄에 정수 N(0 ≤ N ≤ 12)이 주어진다."
   ]
  },
  {
   "cell_type": "code",
   "execution_count": 1,
   "id": "e51e8002",
   "metadata": {},
   "outputs": [
    {
     "name": "stdout",
     "output_type": "stream",
     "text": [
      "10\n",
      "3628800\n"
     ]
    }
   ],
   "source": [
    "def factorial(n) :\n",
    "    if n <= 1 : return 1\n",
    "    else : return n * factorial(n - 1)\n",
    "    \n",
    "N = int(input())\n",
    "print(factorial(N))"
   ]
  },
  {
   "cell_type": "markdown",
   "id": "d60217d6",
   "metadata": {},
   "source": [
    "#### 2. 피보나치 수 5 ( N-10870 )"
   ]
  },
  {
   "cell_type": "markdown",
   "id": "651a2e0b",
   "metadata": {},
   "source": [
    "피보나치 수는 0과 1로 시작한다. 0번째 피보나치 수는 0이고, 1번째 피보나치 수는 1이다. 그 다음 2번째 부터는 바로 앞 두 피보나치 수의 합이 된다.  \n",
    "  \n",
    "이를 식으로 써보면 Fn = Fn-1 + Fn-2 (n ≥ 2)가 된다.  \n",
    "  \n",
    "n=17일때 까지 피보나치 수를 써보면 다음과 같다.  \n",
    "  \n",
    "0, 1, 1, 2, 3, 5, 8, 13, 21, 34, 55, 89, 144, 233, 377, 610, 987, 1597  \n",
    "  \n",
    "n이 주어졌을 때, n번째 피보나치 수를 구하는 프로그램을 작성하시오."
   ]
  },
  {
   "cell_type": "markdown",
   "id": "e2f01fcb",
   "metadata": {},
   "source": [
    "- 입력\n",
    "  - 첫째 줄에 n이 주어진다. n은 20보다 작거나 같은 자연수 또는 0이다."
   ]
  },
  {
   "cell_type": "code",
   "execution_count": 2,
   "id": "978bf35e",
   "metadata": {},
   "outputs": [
    {
     "name": "stdout",
     "output_type": "stream",
     "text": [
      "10\n",
      "55\n"
     ]
    }
   ],
   "source": [
    "def fibonacci(n) :\n",
    "    if n <= 1 : return n\n",
    "    else : return fibonacci(n - 1) + fibonacci(n - 2)\n",
    "    \n",
    "n = int(input())\n",
    "print(fibonacci(n))"
   ]
  },
  {
   "cell_type": "markdown",
   "id": "5d2d5c82",
   "metadata": {},
   "source": [
    "#### 3. 별 찍기 - 10 ( N-2447 )"
   ]
  },
  {
   "cell_type": "markdown",
   "id": "18c3f42f",
   "metadata": {},
   "source": [
    "재귀적인 패턴으로 별을 찍어 보자. N이 3의 거듭제곱(3, 9, 27, ...)이라고 할 때, 크기 N의 패턴은 NxN 정사각형 모양이다.  \n",
    "  \n",
    "크기 3의 패턴은 가운데에 공백이 있고, 가운데를 제외한 모든 칸에 별이 하나씩 있는 패턴이다.\n",
    "> \\*\\** <br>\n",
    "> \\* \\* <br>\n",
    "> \\*** <br>\n",
    "\n",
    "N이 3보다 클 경우, 크기 N의 패턴은 공백으로 채워진 가운데의 (N/3)x(N/3) 정사각형의 크기 N/3의 패턴으로 둘러싼 형태이다. 예를 들어 크기 27의 패턴은 예제 출력 1과 같다."
   ]
  },
  {
   "cell_type": "code",
   "execution_count": 3,
   "id": "74213bc0",
   "metadata": {},
   "outputs": [
    {
     "name": "stdout",
     "output_type": "stream",
     "text": [
      "27\n",
      "***************************\n",
      "* ** ** ** ** ** ** ** ** *\n",
      "***************************\n",
      "***   ******   ******   ***\n",
      "* *   * ** *   * ** *   * *\n",
      "***   ******   ******   ***\n",
      "***************************\n",
      "* ** ** ** ** ** ** ** ** *\n",
      "***************************\n",
      "*********         *********\n",
      "* ** ** *         * ** ** *\n",
      "*********         *********\n",
      "***   ***         ***   ***\n",
      "* *   * *         * *   * *\n",
      "***   ***         ***   ***\n",
      "*********         *********\n",
      "* ** ** *         * ** ** *\n",
      "*********         *********\n",
      "***************************\n",
      "* ** ** ** ** ** ** ** ** *\n",
      "***************************\n",
      "***   ******   ******   ***\n",
      "* *   * ** *   * ** *   * *\n",
      "***   ******   ******   ***\n",
      "***************************\n",
      "* ** ** ** ** ** ** ** ** *\n",
      "***************************\n"
     ]
    }
   ],
   "source": [
    "def star5(n, s, low_w, low_h, high_w, high_h) :\n",
    "    if high_w - low_w >= 2 :\n",
    "        div_w1 = low_w + (high_w - low_w) // 3\n",
    "        div_w2 = high_w - (high_w - low_w) // 3 - 1\n",
    "        div_h1 = low_h + (high_h - low_h) // 3\n",
    "        div_h2 = high_h - (high_h - low_h) // 3 - 1\n",
    "        # print(div1, div2)\n",
    "\n",
    "        #########\n",
    "        # 1 2 3 #\n",
    "        # 4 5 6 #\n",
    "        # 7 8 9 #\n",
    "        #########\n",
    "\n",
    "        # 1\n",
    "        # print(\"1\")\n",
    "        # print(\"(1) low_w : {}, low_h : {}, high_w : {}, high_h : {}\"\n",
    "        #      .format(low_w, low_h, div_w1, div_h1))\n",
    "        star5(n, s, low_w, low_h, div_w1, div_h1)\n",
    "        # 2\n",
    "        # print(\"2\")\n",
    "        # print(\"(2) low_w : {}, low_h : {}, high_w : {}, high_h : {}\"\n",
    "        #      .format(div_w1 + 1, low_h, div_w2, div_h1))\n",
    "        star5(n, s, div_w1 + 1, low_h, div_w2, div_h1)\n",
    "        # 3\n",
    "        # print(\"3\")\n",
    "        # print(\"(3) low_w : {}, low_h : {}, high_w : {}, high_h : {}\"\n",
    "        #      .format(div_w2 + 1, low_h, high_w, div_h1))\n",
    "        star5(n, s, div_w2 + 1, low_h, high_w, div_h1)\n",
    "        # 4\n",
    "        # print(\"4\")\n",
    "        # print(\"(4) low_w : {}, low_h : {}, high_w : {}, high_h : {}\"\n",
    "        #      .format(low_w, div_h1 + 1, div_w1, div_h2))\n",
    "        star5(n, s, low_w, div_h1 + 1, div_w1, div_h2)\n",
    "        # 6\n",
    "        # print(\"6\")\n",
    "        # print(\"(6) low_w : {}, low_h : {}, high_w : {}, high_h : {}\"\n",
    "        #      .format(div_w2 + 1, div_h1 + 1, high_w, div_h2))\n",
    "        star5(n, s, div_w2 + 1, div_h1 + 1, high_w, div_h2)\n",
    "        # 7\n",
    "        # print(\"7\")\n",
    "        # print(\"(7) low_w : {}, low_h : {}, high_w : {}, high_h : {}\"\n",
    "        #      .format(low_w, div_h2 + 1, div_w1, high_h))\n",
    "        star5(n, s, low_w, div_h2 + 1, div_w1, high_h)\n",
    "        # 8 \n",
    "        # print(\"8\")\n",
    "        # print(\"(8) low_w : {}, low_h : {}, high_w : {}, high_h : {}\"\n",
    "        #      .format(div_w1 + 1, div_h2 + 1, div_w2, high_h))\n",
    "        star5(n, s, div_w1 + 1, div_h2 + 1, div_w2, high_h)\n",
    "        # 9\n",
    "        # print(\"9\")\n",
    "        # print(\"(9) low_w : {}, low_h : {}, high_w : {}, high_h : {}\"\n",
    "        #      .format(div_w2 + 1, div_h2 + 1, high_w, high_h))\n",
    "        star5(n, s, div_w2 + 1, div_h2 + 1, high_w, high_h)\n",
    "        # 5\n",
    "        # print(\"5\")\n",
    "        # print(\"(5) low_w : {}, low_h : {}, high_w : {}, high_h : {}\"\n",
    "        #      .format(div_w1 + 1, div_h1 + 1, div_w2, div_h2))\n",
    "        blank(n, s, div_w1 + 1, div_h1 + 1, div_w2, div_h2)\n",
    "    \n",
    "        # print()\n",
    "    \n",
    "#     if blank <= n :\n",
    "#         for i in range(0, n) :\n",
    "#             for j in range(0, n) :\n",
    "#                 if i % blank != 1 and j % blank != 1 : \n",
    "#                     s[i][j] = 1\n",
    "#         return star5(n, s, blank * 3)\n",
    "def blank(n, s, low_w, low_h, high_w, high_h) :\n",
    "    if low_w == high_w :\n",
    "        s[low_w][low_h] = 0\n",
    "    for i in range(low_h, high_h + 1) :\n",
    "        for j in range(low_w, high_w + 1) :\n",
    "            if s[i][j] : s[i][j] = 0\n",
    "\n",
    "N = int(input())\n",
    "\n",
    "star_map = [[1 for i in range(N)] for i in range(N)]\n",
    "\n",
    "star5(N, star_map, 0, 0, N - 1, N - 1)\n",
    "# print(star_map)\n",
    "for i in range(N) :\n",
    "    for j in range(N) :\n",
    "        if star_map[i][j] :\n",
    "            print(\"*\", end = '')\n",
    "        else :\n",
    "            print(\" \", end = '')\n",
    "    print()"
   ]
  },
  {
   "cell_type": "markdown",
   "id": "5d08837a",
   "metadata": {},
   "source": [
    "#### 4. 하노이 탑 이동 순서 ( N-11729 )"
   ]
  },
  {
   "cell_type": "markdown",
   "id": "503a1001",
   "metadata": {},
   "source": [
    "세 개의 장대가 있고 첫 번째 장대에는 반경이 서로 다른 n개의 원판이 쌓여 있다. 각 원판은 반경이 큰 순서대로 쌓여있다. 잊 수도승들이 다음 규칙에 따라 첫 번째 장대에서 세번째 장대로 옮기려 한다.\n",
    "  1. 한 번에 한 개의 원판만을 다른 탑으로 옮길 수 있다.\n",
    "  2. 쌓아 놓은 원판은 항상 위의 것이 아래의 것보다 작아야 한다.\n",
    "  \n",
    "이 작업을 수행하는데 필요한 이동 순서를 출력하는 프로그램을 작성하라. 단, 이동 횟수는 되어야 한다.  "
   ]
  },
  {
   "cell_type": "markdown",
   "id": "2d5a7339",
   "metadata": {},
   "source": [
    "- 입력\n",
    "  - 첫째 줄에 첫 번째 장대에 쌓인 원판의 개수 N (1 ≤ N ≤ 20)이 주어진다."
   ]
  },
  {
   "cell_type": "code",
   "execution_count": null,
   "id": "0d468b63",
   "metadata": {},
   "outputs": [],
   "source": [
    "h"
   ]
  }
 ],
 "metadata": {
  "kernelspec": {
   "display_name": "Python 3",
   "language": "python",
   "name": "python3"
  },
  "language_info": {
   "codemirror_mode": {
    "name": "ipython",
    "version": 3
   },
   "file_extension": ".py",
   "mimetype": "text/x-python",
   "name": "python",
   "nbconvert_exporter": "python",
   "pygments_lexer": "ipython3",
   "version": "3.8.8"
  }
 },
 "nbformat": 4,
 "nbformat_minor": 5
}
