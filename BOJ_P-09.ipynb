{
 "cells": [
  {
   "cell_type": "markdown",
   "id": "38224be9",
   "metadata": {},
   "source": [
    "#### 1. 소수 찾기 ( N-1978 )"
   ]
  },
  {
   "cell_type": "markdown",
   "id": "87d8b8f0",
   "metadata": {},
   "source": [
    "주어진 수 N개 중에서 소수가 몇 개인지 찾아서 출력하는 프로그램을 작성하시오."
   ]
  },
  {
   "cell_type": "markdown",
   "id": "b0aafe1e",
   "metadata": {},
   "source": [
    "- 입력\n",
    "  - 첫 줄에 수의 개수 N이 주어진다. N은 100이하이다. 다음으로 N개의 수가 주어지는데 수는 1,000 이하의 자연수이다."
   ]
  },
  {
   "cell_type": "code",
   "execution_count": 1,
   "id": "b2343075",
   "metadata": {},
   "outputs": [
    {
     "name": "stdout",
     "output_type": "stream",
     "text": [
      "4\n",
      "1 3 5 7\n",
      "3\n"
     ]
    }
   ],
   "source": [
    "N = int(input())\n",
    "num_list, prime_num = list(map(int, input().split())), 0\n",
    "\n",
    "for n in num_list :\n",
    "    if n == 1 : continue\n",
    "    for s in range(2, n) :\n",
    "        if n % s == 0 : break\n",
    "    else : prime_num += 1\n",
    "print(prime_num)"
   ]
  }
 ],
 "metadata": {
  "kernelspec": {
   "display_name": "Python 3",
   "language": "python",
   "name": "python3"
  },
  "language_info": {
   "codemirror_mode": {
    "name": "ipython",
    "version": 3
   },
   "file_extension": ".py",
   "mimetype": "text/x-python",
   "name": "python",
   "nbconvert_exporter": "python",
   "pygments_lexer": "ipython3",
   "version": "3.8.8"
  }
 },
 "nbformat": 4,
 "nbformat_minor": 5
}
