{
 "cells": [
  {
   "cell_type": "markdown",
   "id": "a94064a8",
   "metadata": {},
   "source": [
    "#### 1. 소수 찾기 ( N-1978 )"
   ]
  },
  {
   "cell_type": "markdown",
   "id": "b0181826",
   "metadata": {},
   "source": [
    "주어진 수 N개 중에서 소수가 몇 개인지 찾아서 출력하는 프로그램을 작성하시오."
   ]
  },
  {
   "cell_type": "markdown",
   "id": "79c4aa48",
   "metadata": {},
   "source": [
    "- 입력\n",
    "  - 첫 줄에 수의 개수 N이 주어진다. N은 100이하이다. 다음으로 N개의 수가 주어지는데 수는 1,000 이하의 자연수이다."
   ]
  },
  {
   "cell_type": "code",
   "execution_count": 1,
   "id": "0b8667be",
   "metadata": {},
   "outputs": [
    {
     "name": "stdout",
     "output_type": "stream",
     "text": [
      "4\n",
      "1 3 5 7\n",
      "3\n"
     ]
    }
   ],
   "source": [
    "N = int(input())\n",
    "num_list, prime_num = list(map(int, input().split())), 0\n",
    "\n",
    "for n in num_list :\n",
    "    if n == 1 : continue\n",
    "    for s in range(2, n) :\n",
    "        if n % s == 0 : break\n",
    "    else : prime_num += 1\n",
    "print(prime_num)"
   ]
  },
  {
   "cell_type": "markdown",
   "id": "161713cc",
   "metadata": {},
   "source": [
    "#### 2. 소수 ( N-2581 )"
   ]
  },
  {
   "cell_type": "markdown",
   "id": "32329991",
   "metadata": {},
   "source": [
    "자연수 M과 N이 주어질 때 M이상 N이하의 자연수 중 소수인 것을 모두 골라 이들 소수의 합과 최솟값을 찾는 프로그램을 작성하시오.  \n",
    "  \n",
    "예를 들어 M=60, N=100인 경우 60이상 100이하의 자연수 중 소수는 61, 67, 71, 73, 79, 83, 89, 97 총 8개가 있으므로, 이들 소수의 합은 620이고, 최솟값은 61이 된다."
   ]
  },
  {
   "cell_type": "markdown",
   "id": "59e2e34f",
   "metadata": {},
   "source": [
    "- 입력\n",
    "  - 입력의 첫째 줄에 M이, 둘째 줄에 N이 주어진다.\n",
    "  - M과 N은 10,000이하의 자연수이며, M은 N보다 작거나 같다."
   ]
  },
  {
   "cell_type": "code",
   "execution_count": null,
   "id": "6f4229e9",
   "metadata": {},
   "outputs": [],
   "source": [
    "import sys\n",
    "\n",
    "input = sys.stdin.readline\n",
    "M, N = int(input()), int(input())\n",
    "prime_num = []\n",
    "\n",
    "for n in range(M, N + 1) :\n",
    "    if n == 1 : continue\n",
    "    # 1과 자기자신을 제외한 약수가 존재하는지 확인하려면\n",
    "    # 자기자신의 제곱근까지만 확인하면 된다.\n",
    "    for s in range(2, int(n ** 0.5) + 1) :\n",
    "        if n % s == 0 : break\n",
    "    else : prime_num.append(n)\n",
    "\n",
    "if len(prime_num) > 0 :\n",
    "    print(sum(prime_num))\n",
    "    print(min(prime_num))\n",
    "else : print(\"-1\")"
   ]
  },
  {
   "cell_type": "code",
   "execution_count": 2,
   "id": "be0dc21d",
   "metadata": {},
   "outputs": [
    {
     "name": "stdout",
     "output_type": "stream",
     "text": [
      "60\n",
      "100\n",
      "620\n",
      "61\n"
     ]
    }
   ],
   "source": [
    "M, N = int(input()), int(input())\n",
    "prime_num = []\n",
    "\n",
    "for n in range(M, N + 1) :\n",
    "    if n == 1 : continue\n",
    "    for s in range(2, int(n ** 0.5) + 1) :\n",
    "        if n % s == 0 : break\n",
    "    else : prime_num.append(n)\n",
    "\n",
    "if len(prime_num) > 0 :\n",
    "    print(sum(prime_num))\n",
    "    print(min(prime_num))\n",
    "else : print(\"-1\")"
   ]
  },
  {
   "cell_type": "markdown",
   "id": "6ac0af10",
   "metadata": {},
   "source": [
    "#### 3. 소인수분해 ( N-11653 )"
   ]
  },
  {
   "cell_type": "markdown",
   "id": "38486fc4",
   "metadata": {},
   "source": [
    "정수 N이 주어졌을 때, 소인수분해하는 프로그램을 작성하시오."
   ]
  },
  {
   "cell_type": "markdown",
   "id": "db9a2ce4",
   "metadata": {},
   "source": [
    "- 입력\n",
    "  - 첫째 줄에 정수 N (1 ≤ N ≤ 10,000,000)이 주어진다."
   ]
  },
  {
   "cell_type": "code",
   "execution_count": null,
   "id": "89e9f20e",
   "metadata": {},
   "outputs": [],
   "source": [
    "# iterative : slow\n",
    "N = int(input())\n",
    "prime_factor = []\n",
    "\n",
    "while N > 1 :\n",
    "    for n in range(2, N + 1) :\n",
    "        if N % n == 0 :\n",
    "            prime_factor.append(n)\n",
    "            N //= n\n",
    "            break\n",
    "for element in prime_factor :\n",
    "    print(element)"
   ]
  },
  {
   "cell_type": "code",
   "execution_count": 3,
   "id": "54c2babb",
   "metadata": {},
   "outputs": [
    {
     "name": "stdout",
     "output_type": "stream",
     "text": [
      "72\n",
      "2\n",
      "2\n",
      "2\n",
      "3\n",
      "3\n"
     ]
    }
   ],
   "source": [
    "# recursive : faster than iterative prime_factor\n",
    "def prime_factor(n) :\n",
    "    if n > 1 :\n",
    "        for p_num in range(2, n + 1) :\n",
    "            if n % p_num == 0 :\n",
    "                print(p_num)\n",
    "                return prime_factor(n // p_num)\n",
    "\n",
    "N = int(input())\n",
    "prime_factor(N)"
   ]
  },
  {
   "cell_type": "markdown",
   "id": "8b8f7f97",
   "metadata": {},
   "source": [
    "#### 4. 소수 구하기 ( N-1929 )"
   ]
  },
  {
   "cell_type": "markdown",
   "id": "43e4ed95",
   "metadata": {},
   "source": [
    "M이상 N이하의 소수를 모두 출력하는 프로그램을 작성하시오."
   ]
  },
  {
   "cell_type": "markdown",
   "id": "acd67bcc",
   "metadata": {},
   "source": [
    "- 입력\n",
    "  - 첫째 줄에 자연수 M과 N이 빈 칸을 사이에 두고 주어진다. (1 ≤ M ≤ N ≤ 1,000,000) M이상 N이하의 소수가 하나 이상 있는 입력만 주어진다."
   ]
  },
  {
   "cell_type": "code",
   "execution_count": null,
   "id": "e73e4ea0",
   "metadata": {},
   "outputs": [],
   "source": [
    "M, N = map(int, input().split())\n",
    "\n",
    "for num in range(M, N + 1) :\n",
    "    if num == 1 : continue\n",
    "    for factor in range(2, int(num ** 0.5) + 1) :\n",
    "        if num % factor == 0 : break\n",
    "    else : print(num)"
   ]
  },
  {
   "cell_type": "markdown",
   "id": "be49be0d",
   "metadata": {},
   "source": [
    "#### 5. 베르트랑 공준 ( N-4948 )"
   ]
  },
  {
   "cell_type": "markdown",
   "id": "9e90b459",
   "metadata": {},
   "source": [
    "베르트랑 공준은 임의의 자연수 n에 대햐여, n보다 크고, 2n보다 작거나 같은 소수는 적어도 하나 존재한다는 내용을 담고 있다.  \n",
    "  \n",
    "이 명제는 조제프 베르트랑이 1845년에 추측했고, 파프누티 체비쇼프가 1850년에 증명했다.  \n",
    "  \n",
    "예를 들어, 10보다 크고, 20보다 작거나 같은 소수는 4개가 있다. (11, 13, 17, 19) 또, 14보다 크고, 28보다 작거나 같은 소수는 3개가 있다. (17, 19, 23)  \n",
    "  \n",
    "자연수 n이 주어졌을 때, n보다 크고, 2n보다 작거나 같은 소수의 개수를 구하는 프로그램을 작성하시오."
   ]
  },
  {
   "cell_type": "markdown",
   "id": "5633f12c",
   "metadata": {},
   "source": [
    "- 입력\n",
    "  - 입력은 여러 개의 테스트 케이스로 이루어져 있다. 각 케이스는 n을 포함하는 한 줄로 이루어져 있다.\n",
    "  - 입력의 마지막에는 0이 주어진다."
   ]
  }
 ],
 "metadata": {
  "kernelspec": {
   "display_name": "Python 3",
   "language": "python",
   "name": "python3"
  },
  "language_info": {
   "codemirror_mode": {
    "name": "ipython",
    "version": 3
   },
   "file_extension": ".py",
   "mimetype": "text/x-python",
   "name": "python",
   "nbconvert_exporter": "python",
   "pygments_lexer": "ipython3",
   "version": "3.8.8"
  }
 },
 "nbformat": 4,
 "nbformat_minor": 5
}
