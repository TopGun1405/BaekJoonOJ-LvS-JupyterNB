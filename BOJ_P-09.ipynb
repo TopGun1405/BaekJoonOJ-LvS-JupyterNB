{
 "cells": [
  {
   "cell_type": "markdown",
   "id": "3761c032",
   "metadata": {},
   "source": [
    "#### 1. 소수 찾기 ( N-1978 )"
   ]
  },
  {
   "cell_type": "markdown",
   "id": "4b5475f3",
   "metadata": {},
   "source": [
    "주어진 수 N개 중에서 소수가 몇 개인지 찾아서 출력하는 프로그램을 작성하시오."
   ]
  },
  {
   "cell_type": "markdown",
   "id": "6f23d1d0",
   "metadata": {},
   "source": [
    "- 입력\n",
    "  - 첫 줄에 수의 개수 N이 주어진다. N은 100이하이다. 다음으로 N개의 수가 주어지는데 수는 1,000 이하의 자연수이다."
   ]
  },
  {
   "cell_type": "code",
   "execution_count": 1,
   "id": "6e1960b4",
   "metadata": {},
   "outputs": [
    {
     "name": "stdout",
     "output_type": "stream",
     "text": [
      "4\n",
      "1 3 5 7\n",
      "3\n"
     ]
    }
   ],
   "source": [
    "N = int(input())\n",
    "num_list, prime_num = list(map(int, input().split())), 0\n",
    "\n",
    "for n in num_list :\n",
    "    if n == 1 : continue\n",
    "    for s in range(2, n) :\n",
    "        if n % s == 0 : break\n",
    "    else : prime_num += 1\n",
    "print(prime_num)"
   ]
  },
  {
   "cell_type": "markdown",
   "id": "4b885571",
   "metadata": {},
   "source": [
    "#### 2. 소수 ( N-2581 )"
   ]
  },
  {
   "cell_type": "markdown",
   "id": "81569df7",
   "metadata": {},
   "source": [
    "자연수 M과 N이 주어질 때 M이상 N이하의 자연수 중 소수인 것을 모두 골라 이들 소수의 합과 최솟값을 찾는 프로그램을 작성하시오.  \n",
    "  \n",
    "예를 들어 M=60, N=100인 경우 60이상 100이하의 자연수 중 소수는 61, 67, 71, 73, 79, 83, 89, 97 총 8개가 있으므로, 이들 소수의 합은 620이고, 최솟값은 61이 된다."
   ]
  },
  {
   "cell_type": "markdown",
   "id": "aac58639",
   "metadata": {},
   "source": [
    "- 입력\n",
    "  - 입력의 첫째 줄에 M이, 둘째 줄에 N이 주어진다.\n",
    "  - M과 N은 10,000이하의 자연수이며, M은 N보다 작거나 같다."
   ]
  },
  {
   "cell_type": "code",
   "execution_count": null,
   "id": "67e490f5",
   "metadata": {},
   "outputs": [],
   "source": [
    "import sys\n",
    "\n",
    "input = sys.stdin.readline\n",
    "M, N = int(input()), int(input())\n",
    "prime_num = []\n",
    "\n",
    "for n in range(M, N + 1) :\n",
    "    if n == 1 : continue\n",
    "    # 1과 자기자신을 제외한 약수가 존재하는지 확인하려면\n",
    "    # 자기자신의 제곱근까지만 확인하면 된다.\n",
    "    for s in range(2, int(n ** 0.5) + 1) :\n",
    "        if n % s == 0 : break\n",
    "    else : prime_num.append(n)\n",
    "\n",
    "if len(prime_num) > 0 :\n",
    "    print(sum(prime_num))\n",
    "    print(min(prime_num))\n",
    "else : print(\"-1\")"
   ]
  },
  {
   "cell_type": "code",
   "execution_count": 2,
   "id": "be3def3a",
   "metadata": {},
   "outputs": [
    {
     "name": "stdout",
     "output_type": "stream",
     "text": [
      "60\n",
      "100\n",
      "620\n",
      "61\n"
     ]
    }
   ],
   "source": [
    "M, N = int(input()), int(input())\n",
    "prime_num = []\n",
    "\n",
    "for n in range(M, N + 1) :\n",
    "    if n == 1 : continue\n",
    "    for s in range(2, int(n ** 0.5) + 1) :\n",
    "        if n % s == 0 : break\n",
    "    else : prime_num.append(n)\n",
    "\n",
    "if len(prime_num) > 0 :\n",
    "    print(sum(prime_num))\n",
    "    print(min(prime_num))\n",
    "else : print(\"-1\")"
   ]
  }
 ],
 "metadata": {
  "kernelspec": {
   "display_name": "Python 3",
   "language": "python",
   "name": "python3"
  },
  "language_info": {
   "codemirror_mode": {
    "name": "ipython",
    "version": 3
   },
   "file_extension": ".py",
   "mimetype": "text/x-python",
   "name": "python",
   "nbconvert_exporter": "python",
   "pygments_lexer": "ipython3",
   "version": "3.8.8"
  }
 },
 "nbformat": 4,
 "nbformat_minor": 5
}
