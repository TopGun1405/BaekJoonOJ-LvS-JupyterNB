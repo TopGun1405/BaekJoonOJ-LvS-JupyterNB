{
 "cells": [
  {
   "cell_type": "markdown",
   "id": "09edfbe1",
   "metadata": {},
   "source": [
    "#### 1. 팩토리얼 ( N-10872 )"
   ]
  },
  {
   "cell_type": "markdown",
   "id": "6994bc43",
   "metadata": {},
   "source": [
    "0보다 크거나 같은 정수 N이 주어진다. 이때, N!을 출력하는 프로그램을 작성하시오."
   ]
  },
  {
   "cell_type": "markdown",
   "id": "a316c6a8",
   "metadata": {},
   "source": [
    "- 입력\n",
    "  - 첫째 줄에 정수 N(0 ≤ N ≤ 12)이 주어진다."
   ]
  },
  {
   "cell_type": "code",
   "execution_count": 1,
   "id": "7ac365a2",
   "metadata": {},
   "outputs": [
    {
     "name": "stdout",
     "output_type": "stream",
     "text": [
      "10\n",
      "3628800\n"
     ]
    }
   ],
   "source": [
    "def factorial(n) :\n",
    "    if n <= 1 : return 1\n",
    "    else : return n * factorial(n - 1)\n",
    "    \n",
    "N = int(input())\n",
    "print(factorial(N))"
   ]
  },
  {
   "cell_type": "markdown",
   "id": "ad439f89",
   "metadata": {},
   "source": [
    "#### 2. 피보나치 수 5 ( N-10870 )"
   ]
  },
  {
   "cell_type": "markdown",
   "id": "97e69ce0",
   "metadata": {},
   "source": [
    "피보나치 수는 0과 1로 시작한다. 0번째 피보나치 수는 0이고, 1번째 피보나치 수는 1이다. 그 다음 2번째 부터는 바로 앞 두 피보나치 수의 합이 된다.  \n",
    "  \n",
    "이를 식으로 써보면 Fn = Fn-1 + Fn-2 (n ≥ 2)가 된다.  \n",
    "  \n",
    "n=17일때 까지 피보나치 수를 써보면 다음과 같다.  \n",
    "  \n",
    "0, 1, 1, 2, 3, 5, 8, 13, 21, 34, 55, 89, 144, 233, 377, 610, 987, 1597  \n",
    "  \n",
    "n이 주어졌을 때, n번째 피보나치 수를 구하는 프로그램을 작성하시오."
   ]
  },
  {
   "cell_type": "markdown",
   "id": "d20ee3a5",
   "metadata": {},
   "source": [
    "- 입력\n",
    "  - 첫째 줄에 n이 주어진다. n은 20보다 작거나 같은 자연수 또는 0이다."
   ]
  },
  {
   "cell_type": "code",
   "execution_count": 2,
   "id": "48b5dc31",
   "metadata": {},
   "outputs": [
    {
     "name": "stdout",
     "output_type": "stream",
     "text": [
      "10\n",
      "55\n"
     ]
    }
   ],
   "source": [
    "def fibonacci(n) :\n",
    "    if n <= 1 : return n\n",
    "    else : return fibonacci(n - 1) + fibonacci(n - 2)\n",
    "    \n",
    "n = int(input())\n",
    "print(fibonacci(n))"
   ]
  },
  {
   "cell_type": "markdown",
   "id": "30536b10",
   "metadata": {},
   "source": [
    "#### 3. 별 찍기 - 10 ( N-2447 )"
   ]
  },
  {
   "cell_type": "markdown",
   "id": "385efa91",
   "metadata": {},
   "source": [
    "재귀적인 패턴으로 별을 찍어 보자. N이 3의 거듭제곱(3, 9, 27, ...)이라고 할 때, 크기 N의 패턴은 NxN 정사각형 모양이다.  \n",
    "  \n",
    "크기 3의 패턴은 가운데에 공백이 있고, 가운데를 제외한 모든 칸에 별이 하나씩 있는 패턴이다.\n",
    "> \\*\\** <br>\n",
    "> \\* \\* <br>\n",
    "> \\*** <br>\n",
    "\n",
    "N이 3보다 클 경우, 크기 N의 패턴은 공백으로 채워진 가운데의 (N/3)x(N/3) 정사각형의 크기 N/3의 패턴으로 둘러싼 형태이다. 예를 들어 크기 27의 패턴은 예제 출력 1과 같다."
   ]
  },
  {
   "cell_type": "code",
   "execution_count": null,
   "id": "32a8f617",
   "metadata": {},
   "outputs": [],
   "source": [
    "s"
   ]
  }
 ],
 "metadata": {
  "kernelspec": {
   "display_name": "Python 3",
   "language": "python",
   "name": "python3"
  },
  "language_info": {
   "codemirror_mode": {
    "name": "ipython",
    "version": 3
   },
   "file_extension": ".py",
   "mimetype": "text/x-python",
   "name": "python",
   "nbconvert_exporter": "python",
   "pygments_lexer": "ipython3",
   "version": "3.8.8"
  }
 },
 "nbformat": 4,
 "nbformat_minor": 5
}
